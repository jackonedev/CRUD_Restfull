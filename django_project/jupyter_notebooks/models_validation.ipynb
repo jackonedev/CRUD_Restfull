{
 "cells": [
  {
   "cell_type": "markdown",
   "metadata": {},
   "source": [
    "# DJANGO MAS JUPYTER NOTEBOOK\n",
    "\n",
    "TESTING ENDPOINT"
   ]
  },
  {
   "cell_type": "code",
   "execution_count": 26,
   "metadata": {},
   "outputs": [],
   "source": [
    "import pandas as pd\n",
    "import requests\n",
    "import json\n",
    "import random\n",
    "from django_for_jupyter import init_django"
   ]
  },
  {
   "cell_type": "code",
   "execution_count": 27,
   "metadata": {},
   "outputs": [],
   "source": [
    "init_django('django_project')"
   ]
  },
  {
   "cell_type": "code",
   "execution_count": 28,
   "metadata": {},
   "outputs": [
    {
     "data": {
      "text/plain": [
       "<QuerySet [<Profile: Agustin Stigliano, (132456)>, <Profile: Agustin2 Stigliano2, (1a32456)>, <Profile: Agustin3 Stigliano3, (123.456.789)>, <Profile: Agustin4 Stigliano4, (123.456.79)>, <Profile: John Doe, (asd)>, <Profile: Federico Bordo, (52452845)>, <Profile: Federico Bordo, (512345)>, <Profile: Juan Gris, (44455566)>, <Profile: Agustin Gris, (44655566)>, <Profile: Federico Bordo, (51242345)>, <Profile: Federico Bordo, (11111111)>, <Profile: Federico Gris, (10)>, <Profile: Federico Gris, (851)>, <Profile: Federico Gris, (263)>, <Profile: Federico Bordo, (35222666)>, <Profile: Federico Gris, (409)>, <Profile: Federico Gris, (105)>]>"
      ]
     },
     "execution_count": 28,
     "metadata": {},
     "output_type": "execute_result"
    }
   ],
   "source": [
    "from rest_application.models import Profile\n",
    "Profile.objects.all()"
   ]
  },
  {
   "cell_type": "code",
   "execution_count": 29,
   "metadata": {},
   "outputs": [],
   "source": [
    "def get_pandas_profiles(model):\n",
    "    data = model.objects.all().values()\n",
    "    df = pd.DataFrame(data)\n",
    "    return df"
   ]
  },
  {
   "cell_type": "code",
   "execution_count": 30,
   "metadata": {},
   "outputs": [
    {
     "data": {
      "text/html": [
       "<div>\n",
       "<style scoped>\n",
       "    .dataframe tbody tr th:only-of-type {\n",
       "        vertical-align: middle;\n",
       "    }\n",
       "\n",
       "    .dataframe tbody tr th {\n",
       "        vertical-align: top;\n",
       "    }\n",
       "\n",
       "    .dataframe thead th {\n",
       "        text-align: right;\n",
       "    }\n",
       "</style>\n",
       "<table border=\"1\" class=\"dataframe\">\n",
       "  <thead>\n",
       "    <tr style=\"text-align: right;\">\n",
       "      <th></th>\n",
       "      <th>personal_id</th>\n",
       "      <th>name</th>\n",
       "      <th>last_name</th>\n",
       "      <th>age</th>\n",
       "      <th>profile_image</th>\n",
       "    </tr>\n",
       "  </thead>\n",
       "  <tbody>\n",
       "    <tr>\n",
       "      <th>0</th>\n",
       "      <td>132456</td>\n",
       "      <td>Agustin</td>\n",
       "      <td>Stigliano</td>\n",
       "      <td>10</td>\n",
       "      <td>profile/profile_image/pyscript-what-is-it-600x...</td>\n",
       "    </tr>\n",
       "    <tr>\n",
       "      <th>1</th>\n",
       "      <td>1a32456</td>\n",
       "      <td>Agustin2</td>\n",
       "      <td>Stigliano2</td>\n",
       "      <td>10</td>\n",
       "      <td></td>\n",
       "    </tr>\n",
       "    <tr>\n",
       "      <th>2</th>\n",
       "      <td>123.456.789</td>\n",
       "      <td>Agustin3</td>\n",
       "      <td>Stigliano3</td>\n",
       "      <td>10</td>\n",
       "      <td></td>\n",
       "    </tr>\n",
       "    <tr>\n",
       "      <th>3</th>\n",
       "      <td>123.456.79</td>\n",
       "      <td>Agustin4</td>\n",
       "      <td>Stigliano4</td>\n",
       "      <td>10</td>\n",
       "      <td></td>\n",
       "    </tr>\n",
       "    <tr>\n",
       "      <th>4</th>\n",
       "      <td>asd</td>\n",
       "      <td>John</td>\n",
       "      <td>Doe</td>\n",
       "      <td>10</td>\n",
       "      <td></td>\n",
       "    </tr>\n",
       "    <tr>\n",
       "      <th>5</th>\n",
       "      <td>52452845</td>\n",
       "      <td>Federico</td>\n",
       "      <td>Bordo</td>\n",
       "      <td>22</td>\n",
       "      <td></td>\n",
       "    </tr>\n",
       "    <tr>\n",
       "      <th>6</th>\n",
       "      <td>512345</td>\n",
       "      <td>Federico</td>\n",
       "      <td>Bordo</td>\n",
       "      <td>22</td>\n",
       "      <td></td>\n",
       "    </tr>\n",
       "    <tr>\n",
       "      <th>7</th>\n",
       "      <td>44455566</td>\n",
       "      <td>Juan</td>\n",
       "      <td>Gris</td>\n",
       "      <td>22</td>\n",
       "      <td></td>\n",
       "    </tr>\n",
       "    <tr>\n",
       "      <th>8</th>\n",
       "      <td>44655566</td>\n",
       "      <td>Agustin</td>\n",
       "      <td>Gris</td>\n",
       "      <td>22</td>\n",
       "      <td></td>\n",
       "    </tr>\n",
       "    <tr>\n",
       "      <th>9</th>\n",
       "      <td>51242345</td>\n",
       "      <td>Federico</td>\n",
       "      <td>Bordo</td>\n",
       "      <td>22</td>\n",
       "      <td></td>\n",
       "    </tr>\n",
       "    <tr>\n",
       "      <th>10</th>\n",
       "      <td>11111111</td>\n",
       "      <td>Federico</td>\n",
       "      <td>Bordo</td>\n",
       "      <td>22</td>\n",
       "      <td></td>\n",
       "    </tr>\n",
       "    <tr>\n",
       "      <th>11</th>\n",
       "      <td>10</td>\n",
       "      <td>Federico</td>\n",
       "      <td>Gris</td>\n",
       "      <td>22</td>\n",
       "      <td></td>\n",
       "    </tr>\n",
       "    <tr>\n",
       "      <th>12</th>\n",
       "      <td>851</td>\n",
       "      <td>Federico</td>\n",
       "      <td>Gris</td>\n",
       "      <td>22</td>\n",
       "      <td></td>\n",
       "    </tr>\n",
       "    <tr>\n",
       "      <th>13</th>\n",
       "      <td>263</td>\n",
       "      <td>Federico</td>\n",
       "      <td>Gris</td>\n",
       "      <td>22</td>\n",
       "      <td></td>\n",
       "    </tr>\n",
       "    <tr>\n",
       "      <th>14</th>\n",
       "      <td>35222666</td>\n",
       "      <td>Federico</td>\n",
       "      <td>Bordo</td>\n",
       "      <td>22</td>\n",
       "      <td></td>\n",
       "    </tr>\n",
       "    <tr>\n",
       "      <th>15</th>\n",
       "      <td>409</td>\n",
       "      <td>Federico</td>\n",
       "      <td>Gris</td>\n",
       "      <td>22</td>\n",
       "      <td></td>\n",
       "    </tr>\n",
       "    <tr>\n",
       "      <th>16</th>\n",
       "      <td>105</td>\n",
       "      <td>Federico</td>\n",
       "      <td>Gris</td>\n",
       "      <td>22</td>\n",
       "      <td></td>\n",
       "    </tr>\n",
       "  </tbody>\n",
       "</table>\n",
       "</div>"
      ],
      "text/plain": [
       "    personal_id      name   last_name  age  \\\n",
       "0        132456   Agustin   Stigliano   10   \n",
       "1       1a32456  Agustin2  Stigliano2   10   \n",
       "2   123.456.789  Agustin3  Stigliano3   10   \n",
       "3    123.456.79  Agustin4  Stigliano4   10   \n",
       "4           asd      John         Doe   10   \n",
       "5      52452845  Federico       Bordo   22   \n",
       "6        512345  Federico       Bordo   22   \n",
       "7      44455566      Juan        Gris   22   \n",
       "8      44655566   Agustin        Gris   22   \n",
       "9      51242345  Federico       Bordo   22   \n",
       "10     11111111  Federico       Bordo   22   \n",
       "11           10  Federico        Gris   22   \n",
       "12          851  Federico        Gris   22   \n",
       "13          263  Federico        Gris   22   \n",
       "14     35222666  Federico       Bordo   22   \n",
       "15          409  Federico        Gris   22   \n",
       "16          105  Federico        Gris   22   \n",
       "\n",
       "                                        profile_image  \n",
       "0   profile/profile_image/pyscript-what-is-it-600x...  \n",
       "1                                                      \n",
       "2                                                      \n",
       "3                                                      \n",
       "4                                                      \n",
       "5                                                      \n",
       "6                                                      \n",
       "7                                                      \n",
       "8                                                      \n",
       "9                                                      \n",
       "10                                                     \n",
       "11                                                     \n",
       "12                                                     \n",
       "13                                                     \n",
       "14                                                     \n",
       "15                                                     \n",
       "16                                                     "
      ]
     },
     "execution_count": 30,
     "metadata": {},
     "output_type": "execute_result"
    }
   ],
   "source": [
    "get_pandas_profiles(Profile)"
   ]
  },
  {
   "cell_type": "code",
   "execution_count": 31,
   "metadata": {},
   "outputs": [],
   "source": [
    "res = requests.get('http://google.com')"
   ]
  },
  {
   "cell_type": "code",
   "execution_count": 32,
   "metadata": {},
   "outputs": [
    {
     "data": {
      "text/plain": [
       "['apparent_encoding',\n",
       " 'close',\n",
       " 'connection',\n",
       " 'content',\n",
       " 'cookies',\n",
       " 'elapsed',\n",
       " 'encoding',\n",
       " 'headers',\n",
       " 'history',\n",
       " 'is_permanent_redirect',\n",
       " 'is_redirect',\n",
       " 'iter_content',\n",
       " 'iter_lines',\n",
       " 'json',\n",
       " 'links',\n",
       " 'next',\n",
       " 'ok',\n",
       " 'raise_for_status',\n",
       " 'raw',\n",
       " 'reason',\n",
       " 'request',\n",
       " 'status_code',\n",
       " 'text',\n",
       " 'url']"
      ]
     },
     "execution_count": 32,
     "metadata": {},
     "output_type": "execute_result"
    }
   ],
   "source": [
    "dir(res)[-24:]"
   ]
  },
  {
   "cell_type": "markdown",
   "metadata": {},
   "source": [
    "# PRIMER TEST: api/v1/profiles/\n",
    "\n",
    "Metodo GET: <br />\n",
    "    - Test 1 | Sin query_params: Devuelve todos los perfiles<br />\n",
    "    - Test 2 | Con query_params: Devuelve los perfiles que cumplan con los query_params<br />\n",
    "    - Test 3 | Con query_params que no existen: Devuelve un error 404<br />\n",
    "    - Test 4 | Con query_params que no son validos: Devuelve un error 400<br />\n",
    "<br />\n",
    "Metodo POST: <br />\n",
    "    - Test 1 | Con data: Devuelve el perfil creado<br />\n",
    "    - Test 2 | Sin data: Devuelve un error 400<br />\n",
    "    - Test 3 | Con data que no es valida: Devuelve un error 400<br />\n"
   ]
  },
  {
   "cell_type": "code",
   "execution_count": 33,
   "metadata": {},
   "outputs": [
    {
     "name": "stdout",
     "output_type": "stream",
     "text": [
      "b'[{\"personal_id\":\"132456\",\"name\":\"Agustin\",\"last_name\":\"Stigliano\",\"age\":10,\"profile_image\":\"/media/profile/profile_image/pyscript-what-is-it-600x450.jpg\"},{\"personal_id\":\"1a32456\",\"name\":\"Agustin2\",\"last_name\":\"Stigliano2\",\"age\":10,\"profile_image\":null},{\"personal_id\":\"123.456.789\",\"name\":\"Agustin3\",\"last_name\":\"Stigliano3\",\"age\":10,\"profile_image\":null},{\"personal_id\":\"123.456.79\",\"name\":\"Agustin4\",\"last_name\":\"Stigliano4\",\"age\":10,\"profile_image\":null},{\"personal_id\":\"asd\",\"name\":\"John\",\"last_name\":\"Doe\",\"age\":10,\"profile_image\":null},{\"personal_id\":\"52452845\",\"name\":\"Federico\",\"last_name\":\"Bordo\",\"age\":22,\"profile_image\":null},{\"personal_id\":\"512345\",\"name\":\"Federico\",\"last_name\":\"Bordo\",\"age\":22,\"profile_image\":null},{\"personal_id\":\"44455566\",\"name\":\"Juan\",\"last_name\":\"Gris\",\"age\":22,\"profile_image\":null},{\"personal_id\":\"44655566\",\"name\":\"Agustin\",\"last_name\":\"Gris\",\"age\":22,\"profile_image\":null},{\"personal_id\":\"51242345\",\"name\":\"Federico\",\"last_name\":\"Bordo\",\"age\":22,\"profile_image\":null},{\"personal_id\":\"11111111\",\"name\":\"Federico\",\"last_name\":\"Bordo\",\"age\":22,\"profile_image\":null},{\"personal_id\":\"10\",\"name\":\"Federico\",\"last_name\":\"Gris\",\"age\":22,\"profile_image\":null},{\"personal_id\":\"851\",\"name\":\"Federico\",\"last_name\":\"Gris\",\"age\":22,\"profile_image\":null},{\"personal_id\":\"263\",\"name\":\"Federico\",\"last_name\":\"Gris\",\"age\":22,\"profile_image\":null},{\"personal_id\":\"35222666\",\"name\":\"Federico\",\"last_name\":\"Bordo\",\"age\":22,\"profile_image\":null},{\"personal_id\":\"409\",\"name\":\"Federico\",\"last_name\":\"Gris\",\"age\":22,\"profile_image\":null},{\"personal_id\":\"105\",\"name\":\"Federico\",\"last_name\":\"Gris\",\"age\":22,\"profile_image\":null}]'\n",
      "longitud: 17\n"
     ]
    }
   ],
   "source": [
    "# test 1 GET: sin query_params\n",
    "\n",
    "response = requests.request(method='GET', url='http://localhost:8000/api/v1/profiles/')\n",
    "\n",
    "print (response.content)\n",
    "print ('longitud:', len(json.loads(response.content)))"
   ]
  },
  {
   "cell_type": "code",
   "execution_count": 34,
   "metadata": {},
   "outputs": [
    {
     "name": "stdout",
     "output_type": "stream",
     "text": [
      "status_code: 200\n",
      "content:\n",
      " [{'personal_id': '132456', 'name': 'Agustin', 'last_name': 'Stigliano', 'age': 10, 'profile_image': '/media/profile/profile_image/pyscript-what-is-it-600x450.jpg'}, {'personal_id': '44655566', 'name': 'Agustin', 'last_name': 'Gris', 'age': 22, 'profile_image': None}]\n"
     ]
    }
   ],
   "source": [
    "# test 2 GET: con query_params válidos\n",
    "name = 'Agustin'\n",
    "last_name = ''\n",
    "age = ''\n",
    "\n",
    "url = 'http://localhost:8000/api/v1/profiles/'\n",
    "query = f'?name={name}&last_name={last_name}&age={age}'\n",
    "\n",
    "response = requests.request(method='GET', url=url+query)\n",
    "\n",
    "print ('status_code:', response.status_code)\n",
    "print ('content:\\n', json.loads(response.content))"
   ]
  },
  {
   "cell_type": "code",
   "execution_count": 35,
   "metadata": {},
   "outputs": [
    {
     "name": "stdout",
     "output_type": "stream",
     "text": [
      "status_code: 404\n"
     ]
    }
   ],
   "source": [
    "# test 3 GET: con query_params inexistentes\n",
    "\n",
    "name = ''\n",
    "last_name = ''\n",
    "age = '1'\n",
    "\n",
    "url = 'http://localhost:8000/api/v1/profiles/'\n",
    "query = f'?name={name}&last_name={last_name}&age={age}'\n",
    "\n",
    "response = requests.request(method='GET', url=url+query)\n",
    "\n",
    "try:\n",
    "    data = json.loads(response.content)\n",
    "    print ('status_code:', response.status_code)\n",
    "    print ('content:\\n', response.content)\n",
    "    print ('longitud:', len(data))\n",
    "except:\n",
    "    print ('status_code:', response.status_code)"
   ]
  },
  {
   "cell_type": "code",
   "execution_count": 36,
   "metadata": {},
   "outputs": [
    {
     "name": "stdout",
     "output_type": "stream",
     "text": [
      "status_code: 400\n"
     ]
    }
   ],
   "source": [
    "# test 4 GET: con query_params inválidos\n",
    "\n",
    "name = ''\n",
    "last_name = ''\n",
    "age = 'anything'\n",
    "\n",
    "url = 'http://localhost:8000/api/v1/profiles/'\n",
    "query = f'?name={name}&last_name={last_name}&age={age}'\n",
    "\n",
    "response = requests.request(method='GET', url=url+query)\n",
    "\n",
    "try:\n",
    "    data = json.loads(response.content)\n",
    "    print ('status_code:', response.status_code)\n",
    "    print ('content:\\n', response.content)\n",
    "    print ('longitud:', len(data))\n",
    "except:\n",
    "    print ('status_code:', response.status_code)"
   ]
  },
  {
   "cell_type": "code",
   "execution_count": 37,
   "metadata": {},
   "outputs": [
    {
     "name": "stdout",
     "output_type": "stream",
     "text": [
      "content:\n",
      " b'{\"personal_id\":\"775\",\"name\":\"Federico\",\"last_name\":\"Gris\",\"age\":22,\"profile_image\":null}'\n",
      "status_code: 201\n"
     ]
    }
   ],
   "source": [
    "# test 1 POST: crear un registro\n",
    "\n",
    "status = 1\n",
    "\n",
    "while status != 201:\n",
    "\n",
    "    new_id = random.randint(2, 1000)\n",
    "\n",
    "    data = {'personal_id': new_id, 'name': 'Federico', 'last_name': 'Gris', 'age': 22}\n",
    "\n",
    "    response = requests.request(method='POST', url='http://localhost:8000/api/v1/profiles/', data=data)\n",
    "\n",
    "    status = response.status_code\n",
    "\n",
    "print ('content:\\n', response.content)\n",
    "print ('status_code:', response.status_code)"
   ]
  },
  {
   "cell_type": "code",
   "execution_count": 38,
   "metadata": {},
   "outputs": [
    {
     "name": "stdout",
     "output_type": "stream",
     "text": [
      "content:\n",
      " b'{\"personal_id\":[\"Este campo es requerido.\"],\"name\":[\"Este campo es requerido.\"],\"last_name\":[\"Este campo es requerido.\"],\"age\":[\"Este campo es requerido.\"]}'\n",
      "status_code: 400\n"
     ]
    }
   ],
   "source": [
    "# test 2 POST: sin data\n",
    "\n",
    "data = {}\n",
    "\n",
    "response = requests.request(method='POST', url='http://localhost:8000/api/v1/profiles/', data=data)\n",
    "\n",
    "print ('content:\\n', response.content)\n",
    "print ('status_code:', response.status_code)"
   ]
  },
  {
   "cell_type": "code",
   "execution_count": 39,
   "metadata": {},
   "outputs": [
    {
     "name": "stdout",
     "output_type": "stream",
     "text": [
      "content:\n",
      " b'{\"personal_id\":[\"Personal ID must be a number, not ABC\"],\"name\":[\"Name must be a string, not 123\"],\"last_name\":[\"Name must be a string, not 132\"],\"age\":[\"Introduzca un n\\xc3\\xbamero entero v\\xc3\\xa1lido.\"]}'\n",
      "status_code: 400\n"
     ]
    }
   ],
   "source": [
    "# test 3 POST: con data inválida\n",
    "data = {'personal_id': 'ABC', 'name': '123', 'last_name': '132', 'age': 'all'}\n",
    "\n",
    "response = requests.request(method='POST', url='http://localhost:8000/api/v1/profiles/', data=data)\n",
    "\n",
    "print ('content:\\n', response.content)\n",
    "print ('status_code:', response.status_code)"
   ]
  },
  {
   "cell_type": "markdown",
   "metadata": {},
   "source": [
    "# SEGUNDO TEST: api/v1/profiles/\\<pk\\>/\n",
    "\n",
    "Metodo GET: <br />\n",
    "    - Test 1 | Con pk que existe: Devuelve el perfil<br />\n",
    "    - Test 2 | Con pk que no es valido: Devuelve un error 400<br />\n",
    "    - test 3 | Con pk que no existe: Devuelve un error 404<br />\n",
    "<br />\n",
    "Metodo PUT: <br />\n",
    "    - Test 1 | Con pk que existe: Devuelve el perfil actualizado<br />\n",
    "    - Test 2 | Con pk que no es valido: Devuelve un error 400<br />\n",
    "    - Test 3 | Con pk que no existe: Devuelve un error 404<br />\n",
    "    - Test 4 | Con data que no es valida: Devuelve un error 400<br />\n",
    "    - Test 5 | Sin data: Devuelve un error 400<br />\n",
    "<br />\n",
    "Metodo DELETE: <br />\n",
    "    - Test 1 | Con pk que existe: Devuelve un status 204<br />\n",
    "    - Test 2 | Con pk que no existe: Devuelve un error 404<br />\n",
    "    - Test 3 | Con pk que no es valido: Devuelve un error 400<br />"
   ]
  },
  {
   "cell_type": "code",
   "execution_count": 40,
   "metadata": {},
   "outputs": [
    {
     "name": "stdout",
     "output_type": "stream",
     "text": [
      "content:\n",
      " b'{\"personal_id\":\"775\",\"name\":\"Federico\",\"last_name\":\"Gris\",\"age\":22,\"profile_image\":null}'\n",
      "status_code: 200\n"
     ]
    }
   ],
   "source": [
    "# test 1 GET: con pk válido\n",
    "\n",
    "pk = new_id\n",
    "\n",
    "response = requests.request(method='GET', url=f'http://localhost:8000/api/v1/profiles/{pk}/')\n",
    "\n",
    "print ('content:\\n', response.content)\n",
    "print ('status_code:', response.status_code)\n"
   ]
  },
  {
   "cell_type": "code",
   "execution_count": 41,
   "metadata": {},
   "outputs": [
    {
     "name": "stdout",
     "output_type": "stream",
     "text": [
      "content:\n",
      " b''\n",
      "status_code: 400\n"
     ]
    }
   ],
   "source": [
    "# test 2 GET: con pk inválido\n",
    "\n",
    "pk = 'ABC'\n",
    "\n",
    "response = requests.request(method='GET', url=f'http://localhost:8000/api/v1/profiles/{pk}/')\n",
    "\n",
    "print ('content:\\n', response.content)\n",
    "print ('status_code:', response.status_code)"
   ]
  },
  {
   "cell_type": "code",
   "execution_count": 42,
   "metadata": {},
   "outputs": [
    {
     "name": "stdout",
     "output_type": "stream",
     "text": [
      "content:\n",
      " b''\n",
      "status_code: 404\n"
     ]
    }
   ],
   "source": [
    "# test 3 GET: con pk inexistente\n",
    "\n",
    "pk = 1001\n",
    "\n",
    "response = requests.request(method='GET', url=f'http://localhost:8000/api/v1/profiles/{pk}/')\n",
    "\n",
    "print ('content:\\n', response.content)\n",
    "print ('status_code:', response.status_code)"
   ]
  },
  {
   "cell_type": "code",
   "execution_count": 43,
   "metadata": {},
   "outputs": [
    {
     "name": "stdout",
     "output_type": "stream",
     "text": [
      "content:\n",
      " b'{\"personal_id\":\"1\",\"name\":\"Federico\",\"last_name\":\"Gris\",\"age\":22,\"profile_image\":null}'\n",
      "status_code: 200\n"
     ]
    }
   ],
   "source": [
    "# test 1 PUT: con pk válido\n",
    "\n",
    "pk = new_id\n",
    "\n",
    "data = {'personal_id': '1', 'name': 'Federico', 'last_name': 'Gris', 'age': 22}\n",
    "\n",
    "response = requests.request(method='PUT', url=f'http://localhost:8000/api/v1/profiles/{pk}/', data=data)\n",
    "\n",
    "print ('content:\\n', response.content)\n",
    "print ('status_code:', response.status_code)"
   ]
  },
  {
   "cell_type": "code",
   "execution_count": 44,
   "metadata": {},
   "outputs": [
    {
     "name": "stdout",
     "output_type": "stream",
     "text": [
      "content:\n",
      " b''\n",
      "status_code: 400\n"
     ]
    }
   ],
   "source": [
    "# test 2 PUT: con pk inválido\n",
    "\n",
    "pk = 'ABC'\n",
    "\n",
    "data = {'personal_id': '44655766', 'name': 'Federico', 'last_name': 'Gris', 'age': 22}\n",
    "\n",
    "response = requests.request(method='PUT', url=f'http://localhost:8000/api/v1/profiles/{pk}/', data=data)\n",
    "\n",
    "print ('content:\\n', response.content)\n",
    "print ('status_code:', response.status_code)"
   ]
  },
  {
   "cell_type": "code",
   "execution_count": 45,
   "metadata": {},
   "outputs": [
    {
     "name": "stdout",
     "output_type": "stream",
     "text": [
      "content:\n",
      " b''\n",
      "status_code: 404\n"
     ]
    }
   ],
   "source": [
    "# test 3 PUT: con pk inexistente\n",
    "\n",
    "pk = 1001\n",
    "\n",
    "data = {'personal_id': '44655766', 'name': 'Federico', 'last_name': 'Gris', 'age': 22}\n",
    "\n",
    "response = requests.request(method='PUT', url=f'http://localhost:8000/api/v1/profiles/{pk}/', data=data)\n",
    "\n",
    "print ('content:\\n', response.content)\n",
    "print ('status_code:', response.status_code)"
   ]
  },
  {
   "cell_type": "code",
   "execution_count": 46,
   "metadata": {},
   "outputs": [
    {
     "name": "stdout",
     "output_type": "stream",
     "text": [
      "content:\n",
      " b'{\"personal_id\":[\"Personal ID must be a number, not ABC\"],\"name\":[\"Name must be a string, not 123\"],\"last_name\":[\"Name must be a string, not 132\"],\"age\":[\"Introduzca un n\\xc3\\xbamero entero v\\xc3\\xa1lido.\"]}'\n",
      "status_code: 400\n"
     ]
    }
   ],
   "source": [
    "# test 4 PUT: con data inválida\n",
    "\n",
    "pk = 1\n",
    "\n",
    "data = {'personal_id': 'ABC', 'name': '123', 'last_name': '132', 'age': 'all'}\n",
    "\n",
    "response = requests.request(method='PUT', url=f'http://localhost:8000/api/v1/profiles/{pk}/', data=data)\n",
    "\n",
    "print ('content:\\n', response.content)\n",
    "print ('status_code:', response.status_code)"
   ]
  },
  {
   "cell_type": "code",
   "execution_count": 47,
   "metadata": {},
   "outputs": [
    {
     "name": "stdout",
     "output_type": "stream",
     "text": [
      "content:\n",
      " b'{\"personal_id\":[\"Este campo es requerido.\"],\"name\":[\"Este campo es requerido.\"],\"last_name\":[\"Este campo es requerido.\"],\"age\":[\"Este campo es requerido.\"]}'\n",
      "status_code: 400\n"
     ]
    }
   ],
   "source": [
    "# test 5 PUT: sin data\n",
    "\n",
    "pk = 1\n",
    "\n",
    "data = {}\n",
    "\n",
    "response = requests.request(method='PUT', url=f'http://localhost:8000/api/v1/profiles/{pk}/', data=data)\n",
    "\n",
    "print ('content:\\n', response.content)\n",
    "print ('status_code:', response.status_code)"
   ]
  },
  {
   "cell_type": "code",
   "execution_count": 48,
   "metadata": {},
   "outputs": [
    {
     "name": "stdout",
     "output_type": "stream",
     "text": [
      "content:\n",
      " b''\n",
      "status_code: 204\n"
     ]
    }
   ],
   "source": [
    "# test 1 DELETE: con pk válido\n",
    "\n",
    "pk = 1\n",
    "\n",
    "response = requests.request(method='DELETE', url=f'http://localhost:8000/api/v1/profiles/{pk}/')\n",
    "\n",
    "print ('content:\\n', response.content)\n",
    "print ('status_code:', response.status_code)"
   ]
  },
  {
   "cell_type": "code",
   "execution_count": 49,
   "metadata": {},
   "outputs": [
    {
     "name": "stdout",
     "output_type": "stream",
     "text": [
      "content:\n",
      " b''\n",
      "status_code: 404\n"
     ]
    }
   ],
   "source": [
    "# test 2 DELETE: con pk inexistente\n",
    "\n",
    "pk = 1001\n",
    "\n",
    "response = requests.request(method='DELETE', url=f'http://localhost:8000/api/v1/profiles/{pk}/')\n",
    "\n",
    "print ('content:\\n', response.content)\n",
    "print ('status_code:', response.status_code)"
   ]
  },
  {
   "cell_type": "code",
   "execution_count": 50,
   "metadata": {},
   "outputs": [
    {
     "name": "stdout",
     "output_type": "stream",
     "text": [
      "content:\n",
      " b''\n",
      "status_code: 400\n"
     ]
    }
   ],
   "source": [
    "# test 3 DELETE: con pk inválido\n",
    "\n",
    "pk = 'ABC'\n",
    "\n",
    "response = requests.request(method='DELETE', url=f'http://localhost:8000/api/v1/profiles/{pk}/')\n",
    "\n",
    "print ('content:\\n', response.content)\n",
    "print ('status_code:', response.status_code)"
   ]
  },
  {
   "cell_type": "code",
   "execution_count": null,
   "metadata": {},
   "outputs": [],
   "source": []
  }
 ],
 "metadata": {
  "kernelspec": {
   "display_name": "Python 3 (ipykernel)",
   "language": "python",
   "name": "python3"
  },
  "language_info": {
   "codemirror_mode": {
    "name": "ipython",
    "version": 3
   },
   "file_extension": ".py",
   "mimetype": "text/x-python",
   "name": "python",
   "nbconvert_exporter": "python",
   "pygments_lexer": "ipython3",
   "version": "3.10.2"
  },
  "orig_nbformat": 4,
  "vscode": {
   "interpreter": {
    "hash": "4a8ad0719fb4c7e694a659c43e490ed667120cd373b1de1407c37b4b29da83d3"
   }
  }
 },
 "nbformat": 4,
 "nbformat_minor": 2
}
