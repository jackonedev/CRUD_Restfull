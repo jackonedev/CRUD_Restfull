{
 "cells": [
  {
   "cell_type": "code",
   "execution_count": 1,
   "metadata": {},
   "outputs": [],
   "source": [
    "import pandas as pd\n",
    "from django_for_jupyter import init_django\n",
    "import requests"
   ]
  },
  {
   "cell_type": "code",
   "execution_count": 2,
   "metadata": {},
   "outputs": [],
   "source": [
    "init_django('django_project')"
   ]
  },
  {
   "cell_type": "code",
   "execution_count": 3,
   "metadata": {},
   "outputs": [
    {
     "data": {
      "text/plain": [
       "<QuerySet [<Profile: Agustin Stigliano, (132456)>, <Profile: Agustin2 Stigliano2, (1a32456)>, <Profile: Agustin3 Stigliano3, (123.456.789)>, <Profile: Agustin4 Stigliano4, (123.456.79)>, <Profile: John Doe, (123456789)>, <Profile: John Doe, (asd)>, <Profile: Federico Bordo, (52452845)>, <Profile: Federico Bordo, (512345)>]>"
      ]
     },
     "execution_count": 3,
     "metadata": {},
     "output_type": "execute_result"
    }
   ],
   "source": [
    "from rest_application.models import Profile\n",
    "Profile.objects.all()"
   ]
  },
  {
   "cell_type": "code",
   "execution_count": 4,
   "metadata": {},
   "outputs": [],
   "source": [
    "def get_pandas_profiles(model):\n",
    "    data = model.objects.all().values()\n",
    "    df = pd.DataFrame(data)\n",
    "    return df"
   ]
  },
  {
   "cell_type": "code",
   "execution_count": 5,
   "metadata": {},
   "outputs": [],
   "source": [
    "# Profile.objects.create(personal_id='asd', name='John', last_name='Doe')"
   ]
  },
  {
   "cell_type": "code",
   "execution_count": 6,
   "metadata": {},
   "outputs": [
    {
     "data": {
      "text/html": [
       "<div>\n",
       "<style scoped>\n",
       "    .dataframe tbody tr th:only-of-type {\n",
       "        vertical-align: middle;\n",
       "    }\n",
       "\n",
       "    .dataframe tbody tr th {\n",
       "        vertical-align: top;\n",
       "    }\n",
       "\n",
       "    .dataframe thead th {\n",
       "        text-align: right;\n",
       "    }\n",
       "</style>\n",
       "<table border=\"1\" class=\"dataframe\">\n",
       "  <thead>\n",
       "    <tr style=\"text-align: right;\">\n",
       "      <th></th>\n",
       "      <th>personal_id</th>\n",
       "      <th>name</th>\n",
       "      <th>last_name</th>\n",
       "      <th>age</th>\n",
       "      <th>profile_image</th>\n",
       "    </tr>\n",
       "  </thead>\n",
       "  <tbody>\n",
       "    <tr>\n",
       "      <th>0</th>\n",
       "      <td>132456</td>\n",
       "      <td>Agustin</td>\n",
       "      <td>Stigliano</td>\n",
       "      <td>10</td>\n",
       "      <td>profile/profile_image/pyscript-what-is-it-600x...</td>\n",
       "    </tr>\n",
       "    <tr>\n",
       "      <th>1</th>\n",
       "      <td>1a32456</td>\n",
       "      <td>Agustin2</td>\n",
       "      <td>Stigliano2</td>\n",
       "      <td>10</td>\n",
       "      <td></td>\n",
       "    </tr>\n",
       "    <tr>\n",
       "      <th>2</th>\n",
       "      <td>123.456.789</td>\n",
       "      <td>Agustin3</td>\n",
       "      <td>Stigliano3</td>\n",
       "      <td>10</td>\n",
       "      <td></td>\n",
       "    </tr>\n",
       "    <tr>\n",
       "      <th>3</th>\n",
       "      <td>123.456.79</td>\n",
       "      <td>Agustin4</td>\n",
       "      <td>Stigliano4</td>\n",
       "      <td>10</td>\n",
       "      <td></td>\n",
       "    </tr>\n",
       "    <tr>\n",
       "      <th>4</th>\n",
       "      <td>123456789</td>\n",
       "      <td>John</td>\n",
       "      <td>Doe</td>\n",
       "      <td>10</td>\n",
       "      <td></td>\n",
       "    </tr>\n",
       "    <tr>\n",
       "      <th>5</th>\n",
       "      <td>asd</td>\n",
       "      <td>John</td>\n",
       "      <td>Doe</td>\n",
       "      <td>10</td>\n",
       "      <td></td>\n",
       "    </tr>\n",
       "    <tr>\n",
       "      <th>6</th>\n",
       "      <td>52452845</td>\n",
       "      <td>Federico</td>\n",
       "      <td>Bordo</td>\n",
       "      <td>22</td>\n",
       "      <td></td>\n",
       "    </tr>\n",
       "    <tr>\n",
       "      <th>7</th>\n",
       "      <td>512345</td>\n",
       "      <td>Federico</td>\n",
       "      <td>Bordo</td>\n",
       "      <td>22</td>\n",
       "      <td></td>\n",
       "    </tr>\n",
       "  </tbody>\n",
       "</table>\n",
       "</div>"
      ],
      "text/plain": [
       "   personal_id      name   last_name  age  \\\n",
       "0       132456   Agustin   Stigliano   10   \n",
       "1      1a32456  Agustin2  Stigliano2   10   \n",
       "2  123.456.789  Agustin3  Stigliano3   10   \n",
       "3   123.456.79  Agustin4  Stigliano4   10   \n",
       "4    123456789      John         Doe   10   \n",
       "5          asd      John         Doe   10   \n",
       "6     52452845  Federico       Bordo   22   \n",
       "7       512345  Federico       Bordo   22   \n",
       "\n",
       "                                       profile_image  \n",
       "0  profile/profile_image/pyscript-what-is-it-600x...  \n",
       "1                                                     \n",
       "2                                                     \n",
       "3                                                     \n",
       "4                                                     \n",
       "5                                                     \n",
       "6                                                     \n",
       "7                                                     "
      ]
     },
     "execution_count": 6,
     "metadata": {},
     "output_type": "execute_result"
    }
   ],
   "source": [
    "get_pandas_profiles(Profile)"
   ]
  },
  {
   "cell_type": "code",
   "execution_count": 7,
   "metadata": {},
   "outputs": [],
   "source": [
    "req = requests.get('http://google.com')"
   ]
  },
  {
   "cell_type": "code",
   "execution_count": 14,
   "metadata": {},
   "outputs": [
    {
     "data": {
      "text/plain": [
       "['apparent_encoding',\n",
       " 'close',\n",
       " 'connection',\n",
       " 'content',\n",
       " 'cookies',\n",
       " 'elapsed',\n",
       " 'encoding',\n",
       " 'headers',\n",
       " 'history',\n",
       " 'is_permanent_redirect',\n",
       " 'is_redirect',\n",
       " 'iter_content',\n",
       " 'iter_lines',\n",
       " 'json',\n",
       " 'links',\n",
       " 'next',\n",
       " 'ok',\n",
       " 'raise_for_status',\n",
       " 'raw',\n",
       " 'reason',\n",
       " 'request',\n",
       " 'status_code',\n",
       " 'text',\n",
       " 'url']"
      ]
     },
     "execution_count": 14,
     "metadata": {},
     "output_type": "execute_result"
    }
   ],
   "source": [
    "dir(req)[-24:]"
   ]
  },
  {
   "cell_type": "code",
   "execution_count": 19,
   "metadata": {},
   "outputs": [
    {
     "name": "stdout",
     "output_type": "stream",
     "text": [
      "content:\n",
      " b'<!doctype html><html itemscope=\"\" itemtype=\"http://schema.org/WebPage\" lang=\"en-CA\"><head><meta content=\"text/html; charset=UTF-8\" http-equiv=\"Content-Type\"><meta content=\"/logos/doodles/2022/seasonal-holidays-2022-6753651837109831.3-law.gif\" itemprop=\"image\"><meta content=\"Seasonal Holidays 2022\" property=\"twitter:title\"><meta content=\"\" property=\"twitter:description\"><meta content=\"summary_large_image\" property=\"twitter:card\"><meta content=\"@GoogleDoodles\" property=\"twitter:site\"><meta content=\"https://www.google.com/logos/doodles/2022/seasonal-holidays-2022-6753651837109831.2-2xa.gif\" property=\"twitter:image\"><meta content=\"https://www.google.com/logos/doodles/2022/seasonal-holidays-2022-6753651837109831.2-2xa.gif\" property=\"og:image\"><meta content=\"1150\" property=\"og:image:width\"><meta content=\"460\" property=\"og:image:height\"><meta content=\"https://www.google.com/logos/doodles/2022/seasonal-holidays-2022-6753651837109831.2-2xa.gif\" property=\"og:url\"><meta content=\"video.other\" property=\"og:type\"><title>Google</title><script nonce=\"UWkIuU1gkqHWAZqvS0ffuQ\">(function(){window.google={kEI:\\'oW2QY6DUIPax5NoPrPqI0Ao\\',kEXPI:\\'0,18167,1341242,6058,207,4804,2316,383,246,5,5367,1123753,1197712,303250,77528,16115,28684,22430,1362,12315,4749,12835,4998,13228,3847,6885,3737,22741,5081,1593,1279,2742,149,1103,840,1983,4314,3514,606,2023,2297,14670,3227,2845,7,4773,826,23475,4143,553,1851,15756,3,346,230,1014,1,5444,149,11323,2652,4,1528,2304,7039,27731,4164,3192,13659,4437,16786,5827,2530,4094,4052,3,3541,1,42157,2,14019,2715,23024,5679,1021,2380,28742,4567,6253,23424,1246,5841,14967,4333,7484,445,2,2,1,24626,2006,8155,7381,2,15967,874,7828,11805,9,1920,5784,11778,11347,1510,10682,4832,26504,927,15062,4147,14,82,3890,751,9864,3520,2181,473,584,284,281,1778,1887,1965,1119,6,8909,80,247,1959,3696,1741,814,1542,551,1767,82,854,565,2,566,400,588,997,497,600,172,180,89,399,522,847,187,42,291,3536,12,367,403,469,28,913,20,3,161,100,523,3,80,136,23,2094,432,55,907,342,862,314,1,863,1376,947,857,306,14,129,2,1313,35,1865,49,16,3,456,57,39,89,9,487,12,2,567,141,122,2,217,318,450,83,951,391,1088,168,184,614,288,5,1519,109,2,18,109,67,72,621,5,238,23,102,446,147,35,23,660,136,205,76,238,1531,1,530,41,12,924,1,595,545,917,3,8,3,14,39,64,166,7,2,299,96,8,686,345,214,616,22,1640,2,73,97,333,225,22,775,913,575,5280618,5735,201,125,20,83,8798947,3311,141,795,19735,1,1,346,1755,1004,41,403,2,1,2,124,27,6,1,4,2,4,3,2,1,3,2,2,1,2,5,2,2,1,3,1,3,23947075,513,20,11,2773276,1268323,1964,3094,13578,3406,5595,11,3835,843,3747,2007\\',kBL:\\'p9Xv\\'};google.sn=\\'webhp\\';google.kHL=\\'en-CA\\';})();(function(){\\nvar f=this||self;var h,k=[];function l(a){for(var b;a&&(!a.getAttribute||!(b=a.getAttribute(\"eid\")));)a=a.parentNode;return b||h}function m(a){for(var b=null;a&&(!a.getAttribute||!(b=a.getAttribute(\"leid\")));)a=a.parentNode;return b}\\nfunction n(a,b,c,d,g){var e=\"\";c||-1!==b.search(\"&ei=\")||(e=\"&ei=\"+l(d),-1===b.search(\"&lei=\")&&(d=m(d))&&(e+=\"&lei=\"+d));d=\"\";!c&&f._cshid&&-1===b.search(\"&cshid=\")&&\"slh\"!==a&&(d=\"&cshid=\"+f._cshid);c=c||\"/\"+(g||\"gen_204\")+\"?atyp=i&ct=\"+a+\"&cad=\"+b+e+\"&zx=\"+Date.now()+d;/^http:/i.test(c)&&\"https:\"===window.location.protocol&&(google.ml&&google.ml(Error(\"a\"),!1,{src:c,glmm:1}),c=\"\");return c};h=google.kEI;google.getEI=l;google.getLEI=m;google.ml=function(){return null};google.log=function(a,b,c,d,g){if(c=n(a,b,c,d,g)){a=new Image;var e=k.length;k[e]=a;a.onerror=a.onload=a.onabort=function(){delete k[e]};a.src=c}};google.logUrl=n;}).call(this);(function(){google.y={};google.sy=[];google.x=function(a,b){if(a)var c=a.id;else{do c=Math.random();while(google.y[c])}google.y[c]=[a,b];return!1};google.sx=function(a){google.sy.push(a)};google.lm=[];google.plm=function(a){google.lm.push.apply(google.lm,a)};google.lq=[];google.load=function(a,b,c){google.lq.push([[a],b,c])};google.loadAll=function(a,b){google.lq.push([a,b])};google.bx=!1;google.lx=function(){};}).call(this);google.f={};(function(){\\ndocument.documentElement.addEventListener(\"submit\",function(b){var a;if(a=b.target){var c=a.getAttribute(\"data-submitfalse\");a=\"1\"===c||\"q\"===c&&!a.elements.q.value?!0:!1}else a=!1;a&&(b.preventDefault(),b.stopPropagation())},!0);document.documentElement.addEventListener(\"click\",function(b){var a;a:{for(a=b.target;a&&a!==document.documentElement;a=a.parentElement)if(\"A\"===a.tagName){a=\"1\"===a.getAttribute(\"data-nohref\");break a}a=!1}a&&b.preventDefault()},!0);}).call(this);</script><style>#gbar,#guser{font-size:13px;padding-top:1px !important;}#gbar{height:22px}#guser{padding-bottom:7px !important;text-align:right}.gbh,.gbd{border-top:1px solid #c9d7f1;font-size:1px}.gbh{height:0;position:absolute;top:24px;width:100%}@media all{.gb1{height:22px;margin-right:.5em;vertical-align:top}#gbar{float:left}}a.gb1,a.gb4{text-decoration:underline !important}a.gb1,a.gb4{color:#00c !important}.gbi .gb4{color:#dd8e27 !important}.gbf .gb4{color:#900 !important}\\n</style><style>body,td,a,p,.h{font-family:arial,sans-serif}body{margin:0;overflow-y:scroll}#gog{padding:3px 8px 0}td{line-height:.8em}.gac_m td{line-height:17px}form{margin-bottom:20px}.h{color:#1558d6}em{font-weight:bold;font-style:normal}.lst{height:25px;width:496px}.gsfi,.lst{font:18px arial,sans-serif}.gsfs{font:17px arial,sans-serif}.ds{display:inline-box;display:inline-block;margin:3px 0 4px;margin-left:4px}input{font-family:inherit}body{background:#fff;color:#000}a{color:#4b11a8;text-decoration:none}a:hover,a:active{text-decoration:underline}.fl a{color:#1558d6}a:visited{color:#4b11a8}.sblc{padding-top:5px}.sblc a{display:block;margin:2px 0;margin-left:13px;font-size:11px}.lsbb{background:#f8f9fa;border:solid 1px;border-color:#dadce0 #70757a #70757a #dadce0;height:30px}.lsbb{display:block}#WqQANb a{display:inline-block;margin:0 12px}.lsb{background:url(/images/nav_logo229.png) 0 -261px repeat-x;border:none;color:#000;cursor:pointer;height:30px;margin:0;outline:0;font:15px arial,sans-serif;vertical-align:top}.lsb:active{background:#dadce0}.lst:focus{outline:none}</style><script nonce=\"UWkIuU1gkqHWAZqvS0ffuQ\">(function(){window.google.erd={jsr:1,bv:1698,de:true};\\nvar h=this||self;var k,l=null!=(k=h.mei)?k:1,n,p=null!=(n=h.sdo)?n:!0,q=0,r,t=google.erd,v=t.jsr;google.ml=function(a,b,d,m,e){e=void 0===e?2:e;b&&(r=a&&a.message);if(google.dl)return google.dl(a,e,d),null;if(0>v){window.console&&console.error(a,d);if(-2===v)throw a;b=!1}else b=!a||!a.message||\"Error loading script\"===a.message||q>=l&&!m?!1:!0;if(!b)return null;q++;d=d||{};b=encodeURIComponent;var c=\"/gen_204?atyp=i&ei=\"+b(google.kEI);google.kEXPI&&(c+=\"&jexpid=\"+b(google.kEXPI));c+=\"&srcpg=\"+b(google.sn)+\"&jsr=\"+b(t.jsr)+\"&bver=\"+b(t.bv);var f=a.lineNumber;void 0!==f&&(c+=\"&line=\"+f);var g=\\na.fileName;g&&(0<g.indexOf(\"-extension:/\")&&(e=3),c+=\"&script=\"+b(g),f&&g===window.location.href&&(f=document.documentElement.outerHTML.split(\"\\\\n\")[f],c+=\"&cad=\"+b(f?f.substring(0,300):\"No script found.\")));c+=\"&jsel=\"+e;for(var u in d)c+=\"&\",c+=b(u),c+=\"=\",c+=b(d[u]);c=c+\"&emsg=\"+b(a.name+\": \"+a.message);c=c+\"&jsst=\"+b(a.stack||\"N/A\");12288<=c.length&&(c=c.substr(0,12288));a=c;m||google.log(0,\"\",a);return a};window.onerror=function(a,b,d,m,e){r!==a&&(a=e instanceof Error?e:Error(a),void 0===d||\"lineNumber\"in a||(a.lineNumber=d),void 0===b||\"fileName\"in a||(a.fileName=b),google.ml(a,!1,void 0,!1,\"SyntaxError\"===a.name||\"SyntaxError\"===a.message.substring(0,11)||-1!==a.message.indexOf(\"Script error\")?3:0));r=null;p&&q>=l&&(window.onerror=null)};})();</script></head><body bgcolor=\"#fff\"><script nonce=\"UWkIuU1gkqHWAZqvS0ffuQ\">(function(){var src=\\'/images/nav_logo229.png\\';var iesg=false;document.body.onload = function(){window.n && window.n();if (document.images){new Image().src=src;}\\nif (!iesg){document.f&&document.f.q.focus();document.gbqf&&document.gbqf.q.focus();}\\n}\\n})();</script><div id=\"mngb\"><div id=gbar><nobr><b class=gb1>Search</b> <a class=gb1 href=\"http://www.google.ca/imghp?hl=en&tab=wi\">Images</a> <a class=gb1 href=\"http://maps.google.ca/maps?hl=en&tab=wl\">Maps</a> <a class=gb1 href=\"https://play.google.com/?hl=en&tab=w8\">Play</a> <a class=gb1 href=\"https://www.youtube.com/?tab=w1\">YouTube</a> <a class=gb1 href=\"https://news.google.com/?tab=wn\">News</a> <a class=gb1 href=\"https://mail.google.com/mail/?tab=wm\">Gmail</a> <a class=gb1 href=\"https://drive.google.com/?tab=wo\">Drive</a> <a class=gb1 style=\"text-decoration:none\" href=\"https://www.google.ca/intl/en/about/products?tab=wh\"><u>More</u> &raquo;</a></nobr></div><div id=guser width=100%><nobr><span id=gbn class=gbi></span><span id=gbf class=gbf></span><span id=gbe></span><a href=\"http://www.google.ca/history/optout?hl=en\" class=gb4>Web History</a> | <a  href=\"/preferences?hl=en\" class=gb4>Settings</a> | <a target=_top id=gb_70 href=\"https://accounts.google.com/ServiceLogin?hl=en&passive=true&continue=http://www.google.com/&ec=GAZAAQ\" class=gb4>Sign in</a></nobr></div><div class=gbh style=left:0></div><div class=gbh style=right:0></div></div><center><br clear=\"all\" id=\"lgpd\"><div id=\"lga\"><img alt=\"Seasonal Holidays 2022\" border=\"0\" height=\"200\" src=\"/logos/doodles/2022/seasonal-holidays-2022-6753651837109831.3-law.gif\" title=\"Seasonal Holidays 2022\" width=\"500\" id=\"hplogo\"><br></div><form action=\"/search\" name=\"f\"><table cellpadding=\"0\" cellspacing=\"0\"><tr valign=\"top\"><td width=\"25%\">&nbsp;</td><td align=\"center\" nowrap=\"\"><input name=\"ie\" value=\"ISO-8859-1\" type=\"hidden\"><input value=\"en-CA\" name=\"hl\" type=\"hidden\"><input name=\"source\" type=\"hidden\" value=\"hp\"><input name=\"biw\" type=\"hidden\"><input name=\"bih\" type=\"hidden\"><div class=\"ds\" style=\"height:32px;margin:4px 0\"><input class=\"lst\" style=\"margin:0;padding:5px 8px 0 6px;vertical-align:top;color:#000\" autocomplete=\"off\" value=\"\" title=\"Google Search\" maxlength=\"2048\" name=\"q\" size=\"57\"></div><br style=\"line-height:0\"><span class=\"ds\"><span class=\"lsbb\"><input class=\"lsb\" value=\"Google Search\" name=\"btnG\" type=\"submit\"></span></span><span class=\"ds\"><span class=\"lsbb\"><input class=\"lsb\" id=\"tsuid_1\" value=\"I\\'m Feeling Lucky\" name=\"btnI\" type=\"submit\"><script nonce=\"UWkIuU1gkqHWAZqvS0ffuQ\">(function(){var id=\\'tsuid_1\\';document.getElementById(id).onclick = function(){if (this.form.q.value){this.checked = 1;if (this.form.iflsig)this.form.iflsig.disabled = false;}\\nelse top.location=\\'/doodles/\\';};})();</script><input value=\"AJiK0e8AAAAAY5B7sbjUdIGE3aJ2x_dolI8t3Jz2FF5Z\" name=\"iflsig\" type=\"hidden\"></span></span></td><td class=\"fl sblc\" align=\"left\" nowrap=\"\" width=\"25%\"><a href=\"/advanced_search?hl=en-CA&amp;authuser=0\">Advanced search</a></td></tr></table><input id=\"gbv\" name=\"gbv\" type=\"hidden\" value=\"1\"><script nonce=\"UWkIuU1gkqHWAZqvS0ffuQ\">(function(){var a,b=\"1\";if(document&&document.getElementById)if(\"undefined\"!=typeof XMLHttpRequest)b=\"2\";else if(\"undefined\"!=typeof ActiveXObject){var c,d,e=[\"MSXML2.XMLHTTP.6.0\",\"MSXML2.XMLHTTP.3.0\",\"MSXML2.XMLHTTP\",\"Microsoft.XMLHTTP\"];for(c=0;d=e[c++];)try{new ActiveXObject(d),b=\"2\"}catch(h){}}a=b;if(\"2\"==a&&-1==location.search.indexOf(\"&gbv=2\")){var f=google.gbvu,g=document.getElementById(\"gbv\");g&&(g.value=a);f&&window.setTimeout(function(){location.href=f},0)};}).call(this);</script></form><div id=\"gac_scont\"></div><div style=\"font-size:83%;min-height:3.5em\"><br><div id=\"gws-output-pages-elements-homepage_additional_languages__als\"><style>#gws-output-pages-elements-homepage_additional_languages__als{font-size:small;margin-bottom:24px}#SIvCob{color:#3c4043;display:inline-block;line-height:28px;}#SIvCob a{padding:0 3px;}.H6sW5{display:inline-block;margin:0 2px;white-space:nowrap}.z4hgWe{display:inline-block;margin:0 2px}</style><div id=\"SIvCob\">Google offered in:  <a href=\"http://www.google.com/setprefs?sig=0_X_IqzI2I3pf_W6Mfg7AzrDDFylY%3D&amp;hl=fr&amp;source=homepage&amp;sa=X&amp;ved=0ahUKEwjgqNjmqOf7AhX2GFkFHSw9AqoQ2ZgBCAU\">Fran\\xe7ais</a>  </div></div></div><span id=\"footer\"><div style=\"font-size:10pt\"><div style=\"margin:19px auto;text-align:center\" id=\"WqQANb\"><a href=\"/intl/en/ads/\">Advertising\\xa0Programs</a><a href=\"/services/\">Business Solutions</a><a href=\"/intl/en/about.html\">About Google</a><a href=\"http://www.google.com/setprefdomain?prefdom=CA&amp;prev=http://www.google.ca/&amp;sig=K_wqQnZmlveov-8-fXANXeLjcW6aE%3D\">Google.ca</a></div></div><p style=\"font-size:8pt;color:#70757a\">&copy; 2022 - <a href=\"/intl/en/policies/privacy/\">Privacy</a> - <a href=\"/intl/en/policies/terms/\">Terms</a></p></span></center><script nonce=\"UWkIuU1gkqHWAZqvS0ffuQ\">(function(){window.google.cdo={height:757,width:1440};(function(){var a=window.innerWidth,b=window.innerHeight;if(!a||!b){var c=window.document,d=\"CSS1Compat\"==c.compatMode?c.documentElement:c.body;a=d.clientWidth;b=d.clientHeight}a&&b&&(a!=google.cdo.width||b!=google.cdo.height)&&google.log(\"\",\"\",\"/client_204?&atyp=i&biw=\"+a+\"&bih=\"+b+\"&ei=\"+google.kEI);}).call(this);})();</script> <script nonce=\"UWkIuU1gkqHWAZqvS0ffuQ\">(function(){google.xjs={ck:\\'xjs.hp.oxai9SxkIQY.L.X.O\\',cs:\\'ACT90oEGh-_ImDfBjn6aD_ABGaOlD2MqVw\\',excm:[]};})();</script>  <script nonce=\"UWkIuU1gkqHWAZqvS0ffuQ\">(function(){var u=\\'/xjs/_/js/k\\\\x3dxjs.hp.en.9b-uVUIpJU8.O/am\\\\x3dAADoBABQAGAB/d\\\\x3d1/ed\\\\x3d1/rs\\\\x3dACT90oG-6KYVksw4jxVvNcwan406xE6qVw/m\\\\x3dsb_he,d\\';var amd=0;\\nvar d=this||self,e=function(a){return a};var g;var l=function(a,b){this.g=b===h?a:\"\"};l.prototype.toString=function(){return this.g+\"\"};var h={};\\nfunction m(){var a=u;google.lx=function(){p(a);google.lx=function(){}};google.bx||google.lx()}\\nfunction p(a){google.timers&&google.timers.load&&google.tick&&google.tick(\"load\",\"xjsls\");var b=document;var c=\"SCRIPT\";\"application/xhtml+xml\"===b.contentType&&(c=c.toLowerCase());c=b.createElement(c);if(void 0===g){b=null;var k=d.trustedTypes;if(k&&k.createPolicy){try{b=k.createPolicy(\"goog#html\",{createHTML:e,createScript:e,createScriptURL:e})}catch(q){d.console&&d.console.error(q.message)}g=b}else g=b}a=(b=g)?b.createScriptURL(a):a;a=new l(a,h);c.src=a instanceof l&&a.constructor===l?a.g:\"type_error:TrustedResourceUrl\";var f,n;(f=(a=null==(n=(f=(c.ownerDocument&&c.ownerDocument.defaultView||window).document).querySelector)?void 0:n.call(f,\"script[nonce]\"))?a.nonce||a.getAttribute(\"nonce\")||\"\":\"\")&&c.setAttribute(\"nonce\",f);document.body.appendChild(c);google.psa=!0};google.xjsu=u;setTimeout(function(){0<amd?google.caft(function(){return m()},amd):m()},0);})();function _DumpException(e){throw e;}\\nfunction _F_installCss(c){}\\n(function(){google.jl={blt:\\'none\\',chnk:0,dw:false,dwu:true,emtn:0,end:0,ico:false,ikb:0,ine:false,injs:\\'none\\',injt:0,injth:0,injv2:false,lls:\\'default\\',pdt:0,rep:0,snet:true,strt:0,ubm:false,uwp:true};})();(function(){var pmc=\\'{\\\\x22d\\\\x22:{},\\\\x22sb_he\\\\x22:{\\\\x22agen\\\\x22:true,\\\\x22cgen\\\\x22:true,\\\\x22client\\\\x22:\\\\x22heirloom-hp\\\\x22,\\\\x22dh\\\\x22:true,\\\\x22ds\\\\x22:\\\\x22\\\\x22,\\\\x22fl\\\\x22:true,\\\\x22host\\\\x22:\\\\x22google.com\\\\x22,\\\\x22jsonp\\\\x22:true,\\\\x22msgs\\\\x22:{\\\\x22cibl\\\\x22:\\\\x22Clear Search\\\\x22,\\\\x22dym\\\\x22:\\\\x22Did you mean:\\\\x22,\\\\x22lcky\\\\x22:\\\\x22I\\\\\\\\u0026#39;m Feeling Lucky\\\\x22,\\\\x22lml\\\\x22:\\\\x22Learn more\\\\x22,\\\\x22psrc\\\\x22:\\\\x22This search was removed from your \\\\\\\\u003Ca href\\\\x3d\\\\\\\\\\\\x22/history\\\\\\\\\\\\x22\\\\\\\\u003EWeb History\\\\\\\\u003C/a\\\\\\\\u003E\\\\x22,\\\\x22psrl\\\\x22:\\\\x22Remove\\\\x22,\\\\x22sbit\\\\x22:\\\\x22Search by image\\\\x22,\\\\x22srch\\\\x22:\\\\x22Google Search\\\\x22},\\\\x22ovr\\\\x22:{},\\\\x22pq\\\\x22:\\\\x22\\\\x22,\\\\x22rfs\\\\x22:[],\\\\x22sbas\\\\x22:\\\\x220 3px 8px 0 rgba(0,0,0,0.2),0 0 0 1px rgba(0,0,0,0.08)\\\\x22,\\\\x22stok\\\\x22:\\\\x22VNexHkO_IqfuiKxCk5blQ7ZxtqQ\\\\x22}}\\';google.pmc=JSON.parse(pmc);})();</script>        </body></html>'\n",
      "headers:\n",
      " {'Date': 'Wed, 07 Dec 2022 10:40:33 GMT', 'Expires': '-1', 'Cache-Control': 'private, max-age=0', 'Content-Type': 'text/html; charset=ISO-8859-1', 'Cross-Origin-Opener-Policy-Report-Only': 'same-origin-allow-popups; report-to=\"gws\"', 'Report-To': '{\"group\":\"gws\",\"max_age\":2592000,\"endpoints\":[{\"url\":\"https://csp.withgoogle.com/csp/report-to/gws/other\"}]}', 'P3P': 'CP=\"This is not a P3P policy! See g.co/p3phelp for more info.\"', 'Content-Encoding': 'gzip', 'Server': 'gws', 'Content-Length': '6659', 'X-XSS-Protection': '0', 'X-Frame-Options': 'SAMEORIGIN', 'Set-Cookie': '1P_JAR=2022-12-07-10; expires=Fri, 06-Jan-2023 10:40:33 GMT; path=/; domain=.google.com; Secure, AEC=AakniGOb_DupNxciFdTTsBzUkSTIvpDp3-mQFX4lSCm810QS05t_GIShSA; expires=Mon, 05-Jun-2023 10:40:33 GMT; path=/; domain=.google.com; Secure; HttpOnly; SameSite=lax, NID=511=KfNh7bazgtWjJQamUiIH8H3VfH4ud4iVekNgfEMfPkfCj2g1_WDB2OWvGi9sPOT_9duSITQ807JG-B2jEl_PCLeGZ1PSqcpoWBkqpbaUf7txxWg0qC9YU8_g67s3QDCVHhKUoYSsgtAYYaPP1m8jxVzRP6-rASzwhyha3s_Uq8M; expires=Thu, 08-Jun-2023 10:40:33 GMT; path=/; domain=.google.com; HttpOnly'}\n",
      "json:\n",
      " <bound method Response.json of <Response [200]>>\n",
      "req.ok:\n",
      " True\n",
      "request:\n",
      " <PreparedRequest [GET]>\n",
      "req.status_code:\n",
      " 200\n",
      "url:\n",
      " http://www.google.com/\n"
     ]
    }
   ],
   "source": [
    "req.apparent_encoding\n",
    "req.close\n",
    "req.connection\n",
    "print ('content:\\n', req.content)\n",
    "req.cookies\n",
    "req.elapsed\n",
    "req.encoding\n",
    "print ('headers:\\n', req.headers)\n",
    "req.history\n",
    "req.is_permanent_redirect\n",
    "req.is_redirect\n",
    "req.iter_content\n",
    "req.iter_lines\n",
    "print ('json:\\n',req.json)\n",
    "req.links\n",
    "req.next\n",
    "print ('req.ok:\\n', req.ok)\n",
    "req.raise_for_status\n",
    "req.raw\n",
    "req.reason#\n",
    "print ('request:\\n', req.request)\n",
    "print ('req.status_code:\\n', req.status_code)\n",
    "req.text\n",
    "\n",
    "print ('url:\\n', req.url)"
   ]
  },
  {
   "cell_type": "markdown",
   "metadata": {},
   "source": [
    "# PRIMER TEST\n",
    "Cuando ingreso un query_params para age que sea un string en vez de un int, me devuelve todos los registros en vez de un error de validación."
   ]
  },
  {
   "cell_type": "code",
   "execution_count": 29,
   "metadata": {},
   "outputs": [],
   "source": [
    "import json"
   ]
  },
  {
   "cell_type": "code",
   "execution_count": 39,
   "metadata": {},
   "outputs": [
    {
     "name": "stdout",
     "output_type": "stream",
     "text": [
      "b'[{\"personal_id\":\"132456\",\"name\":\"Agustin\",\"last_name\":\"Stigliano\",\"age\":10,\"profile_image\":\"/media/profile/profile_image/pyscript-what-is-it-600x450.jpg\"},{\"personal_id\":\"1a32456\",\"name\":\"Agustin2\",\"last_name\":\"Stigliano2\",\"age\":10,\"profile_image\":null},{\"personal_id\":\"123.456.789\",\"name\":\"Agustin3\",\"last_name\":\"Stigliano3\",\"age\":10,\"profile_image\":null},{\"personal_id\":\"123.456.79\",\"name\":\"Agustin4\",\"last_name\":\"Stigliano4\",\"age\":10,\"profile_image\":null},{\"personal_id\":\"123456789\",\"name\":\"John\",\"last_name\":\"Doe\",\"age\":10,\"profile_image\":null},{\"personal_id\":\"asd\",\"name\":\"John\",\"last_name\":\"Doe\",\"age\":10,\"profile_image\":null},{\"personal_id\":\"52452845\",\"name\":\"Federico\",\"last_name\":\"Bordo\",\"age\":22,\"profile_image\":null},{\"personal_id\":\"512345\",\"name\":\"Federico\",\"last_name\":\"Bordo\",\"age\":22,\"profile_image\":null},{\"personal_id\":\"44455566\",\"name\":\"Juan\",\"last_name\":\"Gris\",\"age\":22,\"profile_image\":null}]'\n",
      "longitud: 9\n"
     ]
    }
   ],
   "source": [
    "# test 1: obtener todos los registros\n",
    "\n",
    "response = requests.request(method='GET', url='http://localhost:8000/api/v1/profiles/')\n",
    "\n",
    "print (response.content)\n",
    "print ('longitud:', len(json.loads(response.content)))"
   ]
  },
  {
   "cell_type": "code",
   "execution_count": 15,
   "metadata": {},
   "outputs": [
    {
     "data": {
      "text/plain": [
       "201"
      ]
     },
     "execution_count": 15,
     "metadata": {},
     "output_type": "execute_result"
    }
   ],
   "source": [
    "# test 2: crear un registro\n",
    "\n",
    "data = {'personal_id': '44455566', 'name': 'Juan', 'last_name': 'Gris', 'age': 22}\n",
    "\n",
    "response = requests.request(method='POST', url='http://localhost:8000/api/v1/profiles/', data=data)\n",
    "\n",
    "response.status_code"
   ]
  },
  {
   "cell_type": "code",
   "execution_count": 36,
   "metadata": {},
   "outputs": [
    {
     "name": "stdout",
     "output_type": "stream",
     "text": [
      "status_code: 200\n",
      "content:\n",
      " [{'personal_id': '132456', 'name': 'Agustin', 'last_name': 'Stigliano', 'age': 10, 'profile_image': '/media/profile/profile_image/pyscript-what-is-it-600x450.jpg'}]\n"
     ]
    }
   ],
   "source": [
    "# test 3: consultar un registro existente\n",
    "name = 'Agustin'\n",
    "last_name = ''\n",
    "age = ''\n",
    "\n",
    "url = 'http://localhost:8000/api/v1/profiles/'\n",
    "query = f'?name={name}&last_name={last_name}&age={age}'\n",
    "\n",
    "response = requests.request(method='GET', url=url+query)\n",
    "\n",
    "print ('status_code:', response.status_code)\n",
    "print ('content:\\n', json.loads(response.content))"
   ]
  },
  {
   "cell_type": "code",
   "execution_count": 55,
   "metadata": {},
   "outputs": [
    {
     "name": "stdout",
     "output_type": "stream",
     "text": [
      "status_code: 400\n"
     ]
    }
   ],
   "source": [
    "# test 4: consultar un registro con valores que no son validos, o no existen\n",
    "\n",
    "name = ''\n",
    "last_name = ''\n",
    "age = 'anything'\n",
    "\n",
    "url = 'http://localhost:8000/api/v1/profiles/'\n",
    "query = f'?name={name}&last_name={last_name}&age={age}'\n",
    "\n",
    "response = requests.request(method='GET', url=url+query)\n",
    "\n",
    "try:\n",
    "    data = json.loads(response.content)\n",
    "    print ('status_code:', response.status_code)\n",
    "    print ('content:\\n', response.content)\n",
    "    print ('longitud:', len(data))\n",
    "except:\n",
    "    print ('status_code:', response.status_code)"
   ]
  },
  {
   "cell_type": "code",
   "execution_count": null,
   "metadata": {},
   "outputs": [],
   "source": []
  }
 ],
 "metadata": {
  "kernelspec": {
   "display_name": "Python 3 (ipykernel)",
   "language": "python",
   "name": "python3"
  },
  "language_info": {
   "codemirror_mode": {
    "name": "ipython",
    "version": 3
   },
   "file_extension": ".py",
   "mimetype": "text/x-python",
   "name": "python",
   "nbconvert_exporter": "python",
   "pygments_lexer": "ipython3",
   "version": "3.10.2"
  },
  "orig_nbformat": 4,
  "vscode": {
   "interpreter": {
    "hash": "4a8ad0719fb4c7e694a659c43e490ed667120cd373b1de1407c37b4b29da83d3"
   }
  }
 },
 "nbformat": 4,
 "nbformat_minor": 2
}
