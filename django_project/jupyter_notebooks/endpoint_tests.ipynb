{
 "cells": [
  {
   "cell_type": "markdown",
   "metadata": {},
   "source": [
    "# DJANGO MAS JUPYTER NOTEBOOK\n",
    "\n",
    "TESTING ENDPOINT"
   ]
  },
  {
   "cell_type": "code",
   "execution_count": 1,
   "metadata": {},
   "outputs": [],
   "source": [
    "import pandas as pd\n",
    "import requests\n",
    "import json\n",
    "import random\n",
    "from django_for_jupyter import init_django"
   ]
  },
  {
   "cell_type": "code",
   "execution_count": 2,
   "metadata": {},
   "outputs": [],
   "source": [
    "init_django(\"django_project\")"
   ]
  },
  {
   "cell_type": "code",
   "execution_count": 3,
   "metadata": {},
   "outputs": [
    {
     "data": {
      "text/plain": [
       "<QuerySet [<Profile: Alejandra Bordo, (20464260)>, <Profile: Pedro Rojo, (10217811)>, <Profile: Carola Naranja, (8163234)>, <Profile: Mario Amarillo, (28219272)>, <Profile: Carola Bordo, (16250004)>, <Profile: Sofia Naranja, (8849573)>, <Profile: Carola Amarillo, (9920210)>, <Profile: Mario Bordo, (52650007)>, <Profile: Jorge Naranja, (10692008)>, <Profile: Victoria Rojo, (55650009)>]>"
      ]
     },
     "execution_count": 3,
     "metadata": {},
     "output_type": "execute_result"
    }
   ],
   "source": [
    "from rest_application.models import Profile\n",
    "\n",
    "Profile.objects.all()[:10]"
   ]
  },
  {
   "cell_type": "code",
   "execution_count": 4,
   "metadata": {},
   "outputs": [],
   "source": [
    "def get_pandas_profiles(model):\n",
    "    data = model.objects.all().values()\n",
    "    df = pd.DataFrame(data)\n",
    "    return df"
   ]
  },
  {
   "cell_type": "code",
   "execution_count": 5,
   "metadata": {},
   "outputs": [
    {
     "data": {
      "text/html": [
       "<div>\n",
       "<style scoped>\n",
       "    .dataframe tbody tr th:only-of-type {\n",
       "        vertical-align: middle;\n",
       "    }\n",
       "\n",
       "    .dataframe tbody tr th {\n",
       "        vertical-align: top;\n",
       "    }\n",
       "\n",
       "    .dataframe thead th {\n",
       "        text-align: right;\n",
       "    }\n",
       "</style>\n",
       "<table border=\"1\" class=\"dataframe\">\n",
       "  <thead>\n",
       "    <tr style=\"text-align: right;\">\n",
       "      <th></th>\n",
       "      <th>personal_id</th>\n",
       "      <th>name</th>\n",
       "      <th>last_name</th>\n",
       "      <th>age</th>\n",
       "    </tr>\n",
       "  </thead>\n",
       "  <tbody>\n",
       "    <tr>\n",
       "      <th>0</th>\n",
       "      <td>20464260</td>\n",
       "      <td>Alejandra</td>\n",
       "      <td>Bordo</td>\n",
       "      <td>60</td>\n",
       "    </tr>\n",
       "    <tr>\n",
       "      <th>1</th>\n",
       "      <td>10217811</td>\n",
       "      <td>Pedro</td>\n",
       "      <td>Rojo</td>\n",
       "      <td>73</td>\n",
       "    </tr>\n",
       "    <tr>\n",
       "      <th>2</th>\n",
       "      <td>8163234</td>\n",
       "      <td>Carola</td>\n",
       "      <td>Naranja</td>\n",
       "      <td>88</td>\n",
       "    </tr>\n",
       "    <tr>\n",
       "      <th>3</th>\n",
       "      <td>28219272</td>\n",
       "      <td>Mario</td>\n",
       "      <td>Amarillo</td>\n",
       "      <td>39</td>\n",
       "    </tr>\n",
       "    <tr>\n",
       "      <th>4</th>\n",
       "      <td>16250004</td>\n",
       "      <td>Carola</td>\n",
       "      <td>Bordo</td>\n",
       "      <td>65</td>\n",
       "    </tr>\n",
       "    <tr>\n",
       "      <th>...</th>\n",
       "      <td>...</td>\n",
       "      <td>...</td>\n",
       "      <td>...</td>\n",
       "      <td>...</td>\n",
       "    </tr>\n",
       "    <tr>\n",
       "      <th>2013</th>\n",
       "      <td>55555555</td>\n",
       "      <td>development</td>\n",
       "      <td>Amarillo</td>\n",
       "      <td>40</td>\n",
       "    </tr>\n",
       "    <tr>\n",
       "      <th>2014</th>\n",
       "      <td>113</td>\n",
       "      <td>Federico</td>\n",
       "      <td>Gris</td>\n",
       "      <td>22</td>\n",
       "    </tr>\n",
       "    <tr>\n",
       "      <th>2015</th>\n",
       "      <td>55555556</td>\n",
       "      <td>developer</td>\n",
       "      <td>Amarillo</td>\n",
       "      <td>30</td>\n",
       "    </tr>\n",
       "    <tr>\n",
       "      <th>2016</th>\n",
       "      <td>55555557</td>\n",
       "      <td>Daddy</td>\n",
       "      <td>Copenaghen</td>\n",
       "      <td>50</td>\n",
       "    </tr>\n",
       "    <tr>\n",
       "      <th>2017</th>\n",
       "      <td>12345678</td>\n",
       "      <td>John</td>\n",
       "      <td>Dow</td>\n",
       "      <td>32</td>\n",
       "    </tr>\n",
       "  </tbody>\n",
       "</table>\n",
       "<p>2018 rows × 4 columns</p>\n",
       "</div>"
      ],
      "text/plain": [
       "     personal_id         name   last_name  age\n",
       "0       20464260    Alejandra       Bordo   60\n",
       "1       10217811        Pedro        Rojo   73\n",
       "2        8163234       Carola     Naranja   88\n",
       "3       28219272        Mario    Amarillo   39\n",
       "4       16250004       Carola       Bordo   65\n",
       "...          ...          ...         ...  ...\n",
       "2013    55555555  development    Amarillo   40\n",
       "2014         113     Federico        Gris   22\n",
       "2015    55555556    developer    Amarillo   30\n",
       "2016    55555557        Daddy  Copenaghen   50\n",
       "2017    12345678         John         Dow   32\n",
       "\n",
       "[2018 rows x 4 columns]"
      ]
     },
     "execution_count": 5,
     "metadata": {},
     "output_type": "execute_result"
    }
   ],
   "source": [
    "get_pandas_profiles(Profile)"
   ]
  },
  {
   "attachments": {},
   "cell_type": "markdown",
   "metadata": {},
   "source": [
    "# PRIMER TEST: api/v1/profiles/\n",
    "\n",
    "Metodo GET: <br />\n",
    "    - Test 1 | Sin query_params: Devuelve todos los perfiles paginados<br />\n",
    "    - Test 2 | Con query_params: Devuelve los perfiles que cumplan con los query_params<br />\n",
    "    - Test 3 | Con query_params que no existen: Devuelve un error 404<br />\n",
    "    - Test 4 | Con query_params que no son validos: Devuelve un error 400<br />\n",
    "<br />\n",
    "Metodo POST: <br />\n",
    "    - Test 1 | Con data: Devuelve el perfil creado<br />\n",
    "    - Test 2 | Sin data: Devuelve un error 400<br />\n",
    "    - Test 3 | Con data que no es valida: Devuelve un error 400<br />\n"
   ]
  },
  {
   "cell_type": "code",
   "execution_count": 6,
   "metadata": {},
   "outputs": [
    {
     "name": "stdout",
     "output_type": "stream",
     "text": [
      "b'{\"count\":2018,\"next\":\"http://localhost:8000/api/v1/profiles/?page=2\",\"previous\":null,\"results\":[{\"personal_id\":\"20464260\",\"name\":\"Alejandra\",\"last_name\":\"Bordo\",\"age\":60},{\"personal_id\":\"10217811\",\"name\":\"Pedro\",\"last_name\":\"Rojo\",\"age\":73},{\"personal_id\":\"8163234\",\"name\":\"Carola\",\"last_name\":\"Naranja\",\"age\":88},{\"personal_id\":\"28219272\",\"name\":\"Mario\",\"last_name\":\"Amarillo\",\"age\":39},{\"personal_id\":\"16250004\",\"name\":\"Carola\",\"last_name\":\"Bordo\",\"age\":65}]}'\n",
      "longitud: 4\n"
     ]
    }
   ],
   "source": [
    "# test 1 GET: sin query_params\n",
    "\n",
    "response = requests.request(method=\"GET\", url=\"http://localhost:8000/api/v1/profiles/\")\n",
    "\n",
    "print(response.content)\n",
    "print(\"longitud:\", len(json.loads(response.content)))"
   ]
  },
  {
   "cell_type": "code",
   "execution_count": 7,
   "metadata": {},
   "outputs": [
    {
     "name": "stdout",
     "output_type": "stream",
     "text": [
      "status_code: 200\n",
      "content:\n",
      " {'count': 210, 'next': 'http://localhost:8000/api/v1/profiles/?age=&last_name=&name=Agustin&page=2', 'previous': None, 'results': [{'personal_id': '24319292', 'name': 'Agustin', 'last_name': 'Amarillo', 'age': 54}, {'personal_id': '8163247', 'name': 'Agustin', 'last_name': 'Rojo', 'age': 88}, {'personal_id': '22555724', 'name': 'Agustin', 'last_name': 'Violeta', 'age': 57}, {'personal_id': '27419295', 'name': 'Agustin', 'last_name': 'Bordo', 'age': 46}, {'personal_id': '9565990', 'name': 'Agustin', 'last_name': 'Bordo', 'age': 79}]}\n"
     ]
    }
   ],
   "source": [
    "# test 2 GET: con query_params válidos\n",
    "name = \"Agustin\"\n",
    "last_name = \"\"\n",
    "age = \"\"\n",
    "\n",
    "url = \"http://localhost:8000/api/v1/profiles/\"\n",
    "query = f\"?name={name}&last_name={last_name}&age={age}\"\n",
    "\n",
    "response = requests.request(method=\"GET\", url=url + query)\n",
    "\n",
    "print(\"status_code:\", response.status_code)\n",
    "print(\"content:\\n\", json.loads(response.content))"
   ]
  },
  {
   "cell_type": "code",
   "execution_count": 8,
   "metadata": {},
   "outputs": [
    {
     "name": "stdout",
     "output_type": "stream",
     "text": [
      "status_code: 404\n"
     ]
    }
   ],
   "source": [
    "# test 3 GET: con query_params inexistentes\n",
    "\n",
    "name = \"\"\n",
    "last_name = \"\"\n",
    "age = \"1\"\n",
    "\n",
    "url = \"http://localhost:8000/api/v1/profiles/\"\n",
    "query = f\"?name={name}&last_name={last_name}&age={age}\"\n",
    "\n",
    "response = requests.request(method=\"GET\", url=url + query)\n",
    "\n",
    "try:\n",
    "    data = json.loads(response.content)\n",
    "    print(\"status_code:\", response.status_code)\n",
    "    print(\"content:\\n\", response.content)\n",
    "    print(\"longitud:\", len(data))\n",
    "except:\n",
    "    print(\"status_code:\", response.status_code)"
   ]
  },
  {
   "cell_type": "code",
   "execution_count": 9,
   "metadata": {},
   "outputs": [
    {
     "name": "stdout",
     "output_type": "stream",
     "text": [
      "status_code: 400\n"
     ]
    }
   ],
   "source": [
    "# test 4 GET: con query_params inválidos\n",
    "\n",
    "name = \"\"\n",
    "last_name = \"\"\n",
    "age = \"anything\"\n",
    "\n",
    "url = \"http://localhost:8000/api/v1/profiles/\"\n",
    "query = f\"?name={name}&last_name={last_name}&age={age}\"\n",
    "\n",
    "response = requests.request(method=\"GET\", url=url + query)\n",
    "\n",
    "try:\n",
    "    data = json.loads(response.content)\n",
    "    print(\"status_code:\", response.status_code)\n",
    "    print(\"content:\\n\", response.content)\n",
    "    print(\"longitud:\", len(data))\n",
    "except:\n",
    "    print(\"status_code:\", response.status_code)"
   ]
  },
  {
   "cell_type": "code",
   "execution_count": 10,
   "metadata": {},
   "outputs": [
    {
     "name": "stdout",
     "output_type": "stream",
     "text": [
      "content:\n",
      " b'{\"personal_id\":\"475\",\"name\":\"Federico\",\"last_name\":\"Gris\",\"age\":22}'\n",
      "status_code: 201\n"
     ]
    }
   ],
   "source": [
    "# test 1 POST: crear un registro\n",
    "\n",
    "status = 1\n",
    "\n",
    "while status != 201:\n",
    "\n",
    "    new_id = random.randint(2, 1000)\n",
    "\n",
    "    data = {\"personal_id\": new_id, \"name\": \"Federico\", \"last_name\": \"Gris\", \"age\": 22}\n",
    "\n",
    "    response = requests.request(\n",
    "        method=\"POST\", url=\"http://localhost:8000/api/v1/profiles/\", data=data\n",
    "    )\n",
    "\n",
    "    status = response.status_code\n",
    "\n",
    "print(\"content:\\n\", response.content)\n",
    "print(\"status_code:\", response.status_code)"
   ]
  },
  {
   "cell_type": "code",
   "execution_count": 11,
   "metadata": {},
   "outputs": [
    {
     "name": "stdout",
     "output_type": "stream",
     "text": [
      "content:\n",
      " b'{\"personal_id\":[\"This field is required.\"],\"name\":[\"This field is required.\"],\"last_name\":[\"This field is required.\"],\"age\":[\"This field is required.\"]}'\n",
      "status_code: 400\n"
     ]
    }
   ],
   "source": [
    "# test 2 POST: sin data\n",
    "\n",
    "data = {}\n",
    "\n",
    "response = requests.request(\n",
    "    method=\"POST\", url=\"http://localhost:8000/api/v1/profiles/\", data=data\n",
    ")\n",
    "\n",
    "print(\"content:\\n\", response.content)\n",
    "print(\"status_code:\", response.status_code)"
   ]
  },
  {
   "cell_type": "code",
   "execution_count": 12,
   "metadata": {},
   "outputs": [
    {
     "name": "stdout",
     "output_type": "stream",
     "text": [
      "content:\n",
      " b'{\"personal_id\":[\"Personal ID must be a number, not ABC\"],\"name\":[\"Name and Last Name must be a string, not 123\"],\"age\":[\"A valid integer is required.\"]}'\n",
      "status_code: 400\n"
     ]
    }
   ],
   "source": [
    "# test 3 POST: con data inválida\n",
    "data = {\"personal_id\": \"ABC\", \"name\": \"123\", \"last_name\": \"Verde\", \"age\": \"all\"}\n",
    "\n",
    "response = requests.request(\n",
    "    method=\"POST\", url=\"http://localhost:8000/api/v1/profiles/\", data=data\n",
    ")\n",
    "\n",
    "print(\"content:\\n\", response.content)\n",
    "print(\"status_code:\", response.status_code)"
   ]
  },
  {
   "cell_type": "markdown",
   "metadata": {},
   "source": [
    "# SEGUNDO TEST: api/v1/profiles/\\<pk\\>/\n",
    "\n",
    "Metodo GET: <br />\n",
    "    - Test 1 | Con pk que existe: Devuelve el perfil<br />\n",
    "    - Test 2 | Con pk que no es valido: Devuelve un error 400<br />\n",
    "    - test 3 | Con pk que no existe: Devuelve un error 404<br />\n",
    "<br />\n",
    "Metodo PUT: <br />\n",
    "    - Test 1 | Con pk que existe: Devuelve el perfil actualizado<br />\n",
    "    - Test 2 | Con pk que no es valido: Devuelve un error 400<br />\n",
    "    - Test 3 | Con pk que no existe: Devuelve un error 404<br />\n",
    "    - Test 4 | Con data que no es valida: Devuelve un error 400<br />\n",
    "    - Test 5 | Sin data: Devuelve un error 400<br />\n",
    "<br />\n",
    "Metodo DELETE: <br />\n",
    "    - Test 1 | Con pk que existe: Devuelve un status 204<br />\n",
    "    - Test 2 | Con pk que no existe: Devuelve un error 404<br />\n",
    "    - Test 3 | Con pk que no es valido: Devuelve un error 400<br />"
   ]
  },
  {
   "cell_type": "code",
   "execution_count": 13,
   "metadata": {},
   "outputs": [
    {
     "name": "stdout",
     "output_type": "stream",
     "text": [
      "content:\n",
      " b'{\"personal_id\":\"475\",\"name\":\"Federico\",\"last_name\":\"Gris\",\"age\":22}'\n",
      "status_code: 200\n"
     ]
    }
   ],
   "source": [
    "# test 1 GET: con pk válido\n",
    "\n",
    "pk = new_id\n",
    "\n",
    "response = requests.request(\n",
    "    method=\"GET\", url=f\"http://localhost:8000/api/v1/profiles/{pk}/\"\n",
    ")\n",
    "\n",
    "print(\"content:\\n\", response.content)\n",
    "print(\"status_code:\", response.status_code)"
   ]
  },
  {
   "cell_type": "code",
   "execution_count": 14,
   "metadata": {},
   "outputs": [
    {
     "name": "stdout",
     "output_type": "stream",
     "text": [
      "content:\n",
      " b''\n",
      "status_code: 400\n"
     ]
    }
   ],
   "source": [
    "# test 2 GET: con pk inválido\n",
    "\n",
    "pk = \"ABC\"\n",
    "\n",
    "response = requests.request(\n",
    "    method=\"GET\", url=f\"http://localhost:8000/api/v1/profiles/{pk}/\"\n",
    ")\n",
    "\n",
    "print(\"content:\\n\", response.content)\n",
    "print(\"status_code:\", response.status_code)"
   ]
  },
  {
   "cell_type": "code",
   "execution_count": 15,
   "metadata": {},
   "outputs": [
    {
     "name": "stdout",
     "output_type": "stream",
     "text": [
      "content:\n",
      " b''\n",
      "status_code: 404\n"
     ]
    }
   ],
   "source": [
    "# test 3 GET: con pk inexistente\n",
    "\n",
    "pk = 1001\n",
    "\n",
    "response = requests.request(\n",
    "    method=\"GET\", url=f\"http://localhost:8000/api/v1/profiles/{pk}/\"\n",
    ")\n",
    "\n",
    "print(\"content:\\n\", response.content)\n",
    "print(\"status_code:\", response.status_code)"
   ]
  },
  {
   "cell_type": "code",
   "execution_count": 16,
   "metadata": {},
   "outputs": [
    {
     "name": "stdout",
     "output_type": "stream",
     "text": [
      "content:\n",
      " b'{\"personal_id\":\"1\",\"name\":\"Federico\",\"last_name\":\"Gris\",\"age\":22}'\n",
      "status_code: 200\n"
     ]
    }
   ],
   "source": [
    "# test 1 PUT: con pk válido\n",
    "\n",
    "pk = new_id\n",
    "\n",
    "data = {\"personal_id\": \"1\", \"name\": \"Federico\", \"last_name\": \"Gris\", \"age\": 22}\n",
    "\n",
    "response = requests.request(\n",
    "    method=\"PUT\", url=f\"http://localhost:8000/api/v1/profiles/{pk}/\", data=data\n",
    ")\n",
    "\n",
    "print(\"content:\\n\", response.content)\n",
    "print(\"status_code:\", response.status_code)"
   ]
  },
  {
   "cell_type": "code",
   "execution_count": 17,
   "metadata": {},
   "outputs": [
    {
     "name": "stdout",
     "output_type": "stream",
     "text": [
      "content:\n",
      " b''\n",
      "status_code: 400\n"
     ]
    }
   ],
   "source": [
    "# test 2 PUT: con pk inválido\n",
    "\n",
    "pk = \"ABC\"\n",
    "\n",
    "data = {\"personal_id\": \"44655766\", \"name\": \"Federico\", \"last_name\": \"Gris\", \"age\": 22}\n",
    "\n",
    "response = requests.request(\n",
    "    method=\"PUT\", url=f\"http://localhost:8000/api/v1/profiles/{pk}/\", data=data\n",
    ")\n",
    "\n",
    "print(\"content:\\n\", response.content)\n",
    "print(\"status_code:\", response.status_code)"
   ]
  },
  {
   "cell_type": "code",
   "execution_count": 18,
   "metadata": {},
   "outputs": [
    {
     "name": "stdout",
     "output_type": "stream",
     "text": [
      "content:\n",
      " b''\n",
      "status_code: 404\n"
     ]
    }
   ],
   "source": [
    "# test 3 PUT: con pk inexistente\n",
    "\n",
    "pk = 1001\n",
    "\n",
    "data = {\"personal_id\": \"44655766\", \"name\": \"Federico\", \"last_name\": \"Gris\", \"age\": 22}\n",
    "\n",
    "response = requests.request(\n",
    "    method=\"PUT\", url=f\"http://localhost:8000/api/v1/profiles/{pk}/\", data=data\n",
    ")\n",
    "\n",
    "print(\"content:\\n\", response.content)\n",
    "print(\"status_code:\", response.status_code)"
   ]
  },
  {
   "cell_type": "code",
   "execution_count": 19,
   "metadata": {},
   "outputs": [
    {
     "name": "stdout",
     "output_type": "stream",
     "text": [
      "content:\n",
      " b'{\"personal_id\":[\"Personal ID must be a number, not ABC\"],\"name\":[\"Name and Last Name must be a string, not 123\"],\"last_name\":[\"Name and Last Name must be a string, not 132\"],\"age\":[\"A valid integer is required.\"]}'\n",
      "status_code: 400\n"
     ]
    }
   ],
   "source": [
    "# test 4 PUT: con data inválida\n",
    "\n",
    "pk = 1\n",
    "\n",
    "data = {\"personal_id\": \"ABC\", \"name\": \"123\", \"last_name\": \"132\", \"age\": \"all\"}\n",
    "\n",
    "response = requests.request(\n",
    "    method=\"PUT\", url=f\"http://localhost:8000/api/v1/profiles/{pk}/\", data=data\n",
    ")\n",
    "\n",
    "print(\"content:\\n\", response.content)\n",
    "print(\"status_code:\", response.status_code)"
   ]
  },
  {
   "cell_type": "code",
   "execution_count": 20,
   "metadata": {},
   "outputs": [
    {
     "name": "stdout",
     "output_type": "stream",
     "text": [
      "content:\n",
      " b'{\"personal_id\":[\"This field is required.\"],\"name\":[\"This field is required.\"],\"last_name\":[\"This field is required.\"],\"age\":[\"This field is required.\"]}'\n",
      "status_code: 400\n"
     ]
    }
   ],
   "source": [
    "# test 5 PUT: sin data\n",
    "\n",
    "pk = 1\n",
    "\n",
    "data = {}\n",
    "\n",
    "response = requests.request(\n",
    "    method=\"PUT\", url=f\"http://localhost:8000/api/v1/profiles/{pk}/\", data=data\n",
    ")\n",
    "\n",
    "print(\"content:\\n\", response.content)\n",
    "print(\"status_code:\", response.status_code)"
   ]
  },
  {
   "cell_type": "code",
   "execution_count": 21,
   "metadata": {},
   "outputs": [
    {
     "name": "stdout",
     "output_type": "stream",
     "text": [
      "content:\n",
      " b''\n",
      "status_code: 204\n"
     ]
    }
   ],
   "source": [
    "# test 1 DELETE: con pk válido\n",
    "\n",
    "pk = 1\n",
    "\n",
    "response = requests.request(\n",
    "    method=\"DELETE\", url=f\"http://localhost:8000/api/v1/profiles/{pk}/\"\n",
    ")\n",
    "\n",
    "print(\"content:\\n\", response.content)\n",
    "print(\"status_code:\", response.status_code)"
   ]
  },
  {
   "cell_type": "code",
   "execution_count": 22,
   "metadata": {},
   "outputs": [
    {
     "name": "stdout",
     "output_type": "stream",
     "text": [
      "content:\n",
      " b''\n",
      "status_code: 404\n"
     ]
    }
   ],
   "source": [
    "# test 2 DELETE: con pk inexistente\n",
    "\n",
    "pk = 1001\n",
    "\n",
    "response = requests.request(\n",
    "    method=\"DELETE\", url=f\"http://localhost:8000/api/v1/profiles/{pk}/\"\n",
    ")\n",
    "\n",
    "print(\"content:\\n\", response.content)\n",
    "print(\"status_code:\", response.status_code)"
   ]
  },
  {
   "cell_type": "code",
   "execution_count": 23,
   "metadata": {},
   "outputs": [
    {
     "name": "stdout",
     "output_type": "stream",
     "text": [
      "content:\n",
      " b''\n",
      "status_code: 400\n"
     ]
    }
   ],
   "source": [
    "# test 3 DELETE: con pk inválido\n",
    "\n",
    "pk = \"ABC\"\n",
    "\n",
    "response = requests.request(\n",
    "    method=\"DELETE\", url=f\"http://localhost:8000/api/v1/profiles/{pk}/\"\n",
    ")\n",
    "\n",
    "print(\"content:\\n\", response.content)\n",
    "print(\"status_code:\", response.status_code)"
   ]
  },
  {
   "cell_type": "code",
   "execution_count": null,
   "metadata": {},
   "outputs": [],
   "source": []
  }
 ],
 "metadata": {
  "kernelspec": {
   "display_name": "venv",
   "language": "python",
   "name": "python3"
  },
  "language_info": {
   "codemirror_mode": {
    "name": "ipython",
    "version": 3
   },
   "file_extension": ".py",
   "mimetype": "text/x-python",
   "name": "python",
   "nbconvert_exporter": "python",
   "pygments_lexer": "ipython3",
   "version": "3.10.2 (tags/v3.10.2:a58ebcc, Jan 17 2022, 14:12:15) [MSC v.1929 64 bit (AMD64)]"
  },
  "orig_nbformat": 4,
  "vscode": {
   "interpreter": {
    "hash": "d5a8a6c97497e9f95c7c0d1db7396c94d42cb13040e980b0b4533e8db78e34df"
   }
  }
 },
 "nbformat": 4,
 "nbformat_minor": 2
}
