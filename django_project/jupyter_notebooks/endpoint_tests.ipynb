{
 "cells": [
  {
   "attachments": {},
   "cell_type": "markdown",
   "metadata": {},
   "source": [
    "# NOTEBOOK DE TESTEO DE ENDPOINTS\n",
    "\n",
    "#### La última actualización incorpora el query param \"page\", así que muchas url's tienen que ser modificadas\n",
    "\n"
   ]
  },
  {
   "cell_type": "code",
   "execution_count": 16,
   "metadata": {},
   "outputs": [],
   "source": [
    "import pandas as pd\n",
    "import requests\n",
    "import json\n",
    "import random\n",
    "from django_for_jupyter import init_django"
   ]
  },
  {
   "cell_type": "code",
   "execution_count": 17,
   "metadata": {},
   "outputs": [],
   "source": [
    "init_django(\"django_project\")"
   ]
  },
  {
   "cell_type": "code",
   "execution_count": 18,
   "metadata": {},
   "outputs": [
    {
     "data": {
      "text/plain": [
       "<QuerySet [<Profile: Alejandra Bordo, (20464260)>, <Profile: Carola Naranja, (8163234)>, <Profile: Mario Amarillo, (28219272)>, <Profile: Carola Bordo, (16250004)>, <Profile: Sofia Naranja, (8849573)>, <Profile: Carola Amarillo, (9920210)>, <Profile: Mario Bordo, (52650007)>, <Profile: Jorge Naranja, (10692008)>, <Profile: Victoria Rojo, (55650009)>, <Profile: Mario Violeta, (43733322)>]>"
      ]
     },
     "execution_count": 18,
     "metadata": {},
     "output_type": "execute_result"
    }
   ],
   "source": [
    "from rest_application.models import Profile\n",
    "\n",
    "Profile.objects.all()[:10]"
   ]
  },
  {
   "cell_type": "code",
   "execution_count": 19,
   "metadata": {},
   "outputs": [],
   "source": [
    "def get_pandas_profiles(model):\n",
    "    data = model.objects.all().values()\n",
    "    df = pd.DataFrame(data)\n",
    "    return df"
   ]
  },
  {
   "cell_type": "code",
   "execution_count": 20,
   "metadata": {},
   "outputs": [
    {
     "data": {
      "text/html": [
       "<div>\n",
       "<style scoped>\n",
       "    .dataframe tbody tr th:only-of-type {\n",
       "        vertical-align: middle;\n",
       "    }\n",
       "\n",
       "    .dataframe tbody tr th {\n",
       "        vertical-align: top;\n",
       "    }\n",
       "\n",
       "    .dataframe thead th {\n",
       "        text-align: right;\n",
       "    }\n",
       "</style>\n",
       "<table border=\"1\" class=\"dataframe\">\n",
       "  <thead>\n",
       "    <tr style=\"text-align: right;\">\n",
       "      <th></th>\n",
       "      <th>personal_id</th>\n",
       "      <th>name</th>\n",
       "      <th>last_name</th>\n",
       "      <th>age</th>\n",
       "    </tr>\n",
       "  </thead>\n",
       "  <tbody>\n",
       "    <tr>\n",
       "      <th>0</th>\n",
       "      <td>20464260</td>\n",
       "      <td>Alejandra</td>\n",
       "      <td>Bordo</td>\n",
       "      <td>60</td>\n",
       "    </tr>\n",
       "    <tr>\n",
       "      <th>1</th>\n",
       "      <td>8163234</td>\n",
       "      <td>Carola</td>\n",
       "      <td>Naranja</td>\n",
       "      <td>88</td>\n",
       "    </tr>\n",
       "    <tr>\n",
       "      <th>2</th>\n",
       "      <td>28219272</td>\n",
       "      <td>Mario</td>\n",
       "      <td>Amarillo</td>\n",
       "      <td>39</td>\n",
       "    </tr>\n",
       "    <tr>\n",
       "      <th>3</th>\n",
       "      <td>16250004</td>\n",
       "      <td>Carola</td>\n",
       "      <td>Bordo</td>\n",
       "      <td>65</td>\n",
       "    </tr>\n",
       "    <tr>\n",
       "      <th>4</th>\n",
       "      <td>8849573</td>\n",
       "      <td>Sofia</td>\n",
       "      <td>Naranja</td>\n",
       "      <td>84</td>\n",
       "    </tr>\n",
       "    <tr>\n",
       "      <th>...</th>\n",
       "      <td>...</td>\n",
       "      <td>...</td>\n",
       "      <td>...</td>\n",
       "      <td>...</td>\n",
       "    </tr>\n",
       "    <tr>\n",
       "      <th>2018</th>\n",
       "      <td>55555567</td>\n",
       "      <td>Development</td>\n",
       "      <td>Amarillo</td>\n",
       "      <td>45</td>\n",
       "    </tr>\n",
       "    <tr>\n",
       "      <th>2019</th>\n",
       "      <td>55555568</td>\n",
       "      <td>Development</td>\n",
       "      <td>Amarillo</td>\n",
       "      <td>45</td>\n",
       "    </tr>\n",
       "    <tr>\n",
       "      <th>2020</th>\n",
       "      <td>55555570</td>\n",
       "      <td>Development</td>\n",
       "      <td>Amarillo</td>\n",
       "      <td>45</td>\n",
       "    </tr>\n",
       "    <tr>\n",
       "      <th>2021</th>\n",
       "      <td>999999</td>\n",
       "      <td>Development</td>\n",
       "      <td>Amarillo</td>\n",
       "      <td>46</td>\n",
       "    </tr>\n",
       "    <tr>\n",
       "      <th>2022</th>\n",
       "      <td>28219275</td>\n",
       "      <td>Pedro</td>\n",
       "      <td>Bordo</td>\n",
       "      <td>40</td>\n",
       "    </tr>\n",
       "  </tbody>\n",
       "</table>\n",
       "<p>2023 rows × 4 columns</p>\n",
       "</div>"
      ],
      "text/plain": [
       "     personal_id         name last_name  age\n",
       "0       20464260    Alejandra     Bordo   60\n",
       "1        8163234       Carola   Naranja   88\n",
       "2       28219272        Mario  Amarillo   39\n",
       "3       16250004       Carola     Bordo   65\n",
       "4        8849573        Sofia   Naranja   84\n",
       "...          ...          ...       ...  ...\n",
       "2018    55555567  Development  Amarillo   45\n",
       "2019    55555568  Development  Amarillo   45\n",
       "2020    55555570  Development  Amarillo   45\n",
       "2021      999999  Development  Amarillo   46\n",
       "2022    28219275        Pedro     Bordo   40\n",
       "\n",
       "[2023 rows x 4 columns]"
      ]
     },
     "execution_count": 20,
     "metadata": {},
     "output_type": "execute_result"
    }
   ],
   "source": [
    "get_pandas_profiles(Profile)"
   ]
  },
  {
   "attachments": {},
   "cell_type": "markdown",
   "metadata": {},
   "source": [
    "# PRIMER TEST: api/v1/profiles/\n",
    "\n",
    "Metodo GET: <br />\n",
    "    - Test 1 | Sin query_params: Devuelve todos los perfiles paginados<br />\n",
    "    - Test 2 | Con query_params: Devuelve los perfiles que cumplan con los query_params<br />\n",
    "    - Test 3 | Con query_params que no existen: Devuelve un error 404<br />\n",
    "    - Test 4 | Con query_params que no son validos: Devuelve un error 400<br />\n",
    "<br />\n",
    "Metodo POST: <br />\n",
    "    - Test 1 | Con data: Devuelve el perfil creado<br />\n",
    "    - Test 2 | Sin data: Devuelve un error 400<br />\n",
    "    - Test 3 | Con data que no es valida: Devuelve un error 400<br />\n"
   ]
  },
  {
   "cell_type": "code",
   "execution_count": 21,
   "metadata": {},
   "outputs": [
    {
     "name": "stdout",
     "output_type": "stream",
     "text": [
      "b'{\"count\":2023,\"next\":\"http://localhost:8000/api/v1/profiles/?page=2\",\"previous\":null,\"results\":[{\"personal_id\":\"20464260\",\"name\":\"Alejandra\",\"last_name\":\"Bordo\",\"age\":60},{\"personal_id\":\"8163234\",\"name\":\"Carola\",\"last_name\":\"Naranja\",\"age\":88},{\"personal_id\":\"28219272\",\"name\":\"Mario\",\"last_name\":\"Amarillo\",\"age\":39},{\"personal_id\":\"16250004\",\"name\":\"Carola\",\"last_name\":\"Bordo\",\"age\":65},{\"personal_id\":\"8849573\",\"name\":\"Sofia\",\"last_name\":\"Naranja\",\"age\":84}]}'\n",
      "longitud: 4\n"
     ]
    }
   ],
   "source": [
    "# test 1 GET: sin query_params\n",
    "\n",
    "response = requests.request(method=\"GET\", url=\"http://localhost:8000/api/v1/profiles/\")\n",
    "\n",
    "print(response.content)\n",
    "print(\"longitud:\", len(json.loads(response.content)))"
   ]
  },
  {
   "cell_type": "code",
   "execution_count": 22,
   "metadata": {},
   "outputs": [
    {
     "name": "stdout",
     "output_type": "stream",
     "text": [
      "status_code: 200\n",
      "content:\n",
      " {'count': 210, 'next': 'http://localhost:8000/api/v1/profiles/?name=Agustin&name=Agustin&page=2', 'previous': None, 'results': [{'personal_id': '24319292', 'name': 'Agustin', 'last_name': 'Amarillo', 'age': 54}, {'personal_id': '8163247', 'name': 'Agustin', 'last_name': 'Rojo', 'age': 88}, {'personal_id': '22555724', 'name': 'Agustin', 'last_name': 'Violeta', 'age': 57}, {'personal_id': '27419295', 'name': 'Agustin', 'last_name': 'Bordo', 'age': 46}, {'personal_id': '9565990', 'name': 'Agustin', 'last_name': 'Bordo', 'age': 79}]}\n"
     ]
    }
   ],
   "source": [
    "# test 2 GET: con query_params válidos\n",
    "page = 1\n",
    "name = \"Agustin\"\n",
    "last_name = \"\"\n",
    "age = \"\"\n",
    "\n",
    "url = \"http://localhost:8000/api/v1/profiles/\" + \"?page={}\".format(page)\n",
    "\n",
    "query = \"\"\n",
    "if name: query += f\"&name={name}\"\n",
    "if last_name: query += f\"&last_name={last_name}\"\n",
    "if age: query += f\"&age={age}\"\n",
    "\n",
    "url += query\n",
    "\n",
    "response = requests.request(method=\"GET\", url=url + query)\n",
    "\n",
    "print(\"status_code:\", response.status_code)\n",
    "print(\"content:\\n\", json.loads(response.content))"
   ]
  },
  {
   "cell_type": "code",
   "execution_count": 23,
   "metadata": {},
   "outputs": [
    {
     "name": "stdout",
     "output_type": "stream",
     "text": [
      "status_code: 404\n"
     ]
    }
   ],
   "source": [
    "# test 3 GET: con query_params inexistentes\n",
    "\n",
    "name = \"\"\n",
    "last_name = \"\"\n",
    "age = \"1\"\n",
    "\n",
    "url = \"http://localhost:8000/api/v1/profiles/\"\n",
    "query = f\"?name={name}&last_name={last_name}&age={age}\"\n",
    "\n",
    "response = requests.request(method=\"GET\", url=url + query)\n",
    "\n",
    "try:\n",
    "    data = json.loads(response.content)\n",
    "    print(\"status_code:\", response.status_code)\n",
    "    print(\"content:\\n\", response.content)\n",
    "    print(\"longitud:\", len(data))\n",
    "except:\n",
    "    print(\"status_code:\", response.status_code)"
   ]
  },
  {
   "cell_type": "code",
   "execution_count": 24,
   "metadata": {},
   "outputs": [
    {
     "name": "stdout",
     "output_type": "stream",
     "text": [
      "status_code: 400\n"
     ]
    }
   ],
   "source": [
    "# test 4 GET: con query_params inválidos\n",
    "\n",
    "name = \"\"\n",
    "last_name = \"\"\n",
    "age = \"anything\"\n",
    "\n",
    "url = \"http://localhost:8000/api/v1/profiles/\"\n",
    "query = f\"?name={name}&last_name={last_name}&age={age}\"\n",
    "\n",
    "response = requests.request(method=\"GET\", url=url + query)\n",
    "\n",
    "try:\n",
    "    data = json.loads(response.content)\n",
    "    print(\"status_code:\", response.status_code)\n",
    "    print(\"content:\\n\", response.content)\n",
    "    print(\"longitud:\", len(data))\n",
    "except:\n",
    "    print(\"status_code:\", response.status_code)"
   ]
  },
  {
   "cell_type": "code",
   "execution_count": 25,
   "metadata": {},
   "outputs": [
    {
     "name": "stdout",
     "output_type": "stream",
     "text": [
      "content:\n",
      " b'{\"personal_id\":\"429\",\"name\":\"Federico\",\"last_name\":\"Gris\",\"age\":22}'\n",
      "status_code: 201\n"
     ]
    }
   ],
   "source": [
    "# test 1 POST: crear un registro\n",
    "\n",
    "status = 1\n",
    "\n",
    "while status != 201:\n",
    "\n",
    "    new_id = random.randint(2, 1000)\n",
    "\n",
    "    data = {\"personal_id\": new_id, \"name\": \"Federico\", \"last_name\": \"Gris\", \"age\": 22}\n",
    "\n",
    "    response = requests.request(\n",
    "        method=\"POST\", url=\"http://localhost:8000/api/v1/profiles/\", data=data\n",
    "    )\n",
    "\n",
    "    status = response.status_code\n",
    "\n",
    "print(\"content:\\n\", response.content)\n",
    "print(\"status_code:\", response.status_code)"
   ]
  },
  {
   "cell_type": "code",
   "execution_count": 26,
   "metadata": {},
   "outputs": [
    {
     "name": "stdout",
     "output_type": "stream",
     "text": [
      "content:\n",
      " b'{\"personal_id\":[\"This field is required.\"],\"name\":[\"This field is required.\"],\"last_name\":[\"This field is required.\"],\"age\":[\"This field is required.\"]}'\n",
      "status_code: 400\n"
     ]
    }
   ],
   "source": [
    "# test 2 POST: sin data\n",
    "\n",
    "data = {}\n",
    "\n",
    "response = requests.request(\n",
    "    method=\"POST\", url=\"http://localhost:8000/api/v1/profiles/\", data=data\n",
    ")\n",
    "\n",
    "print(\"content:\\n\", response.content)\n",
    "print(\"status_code:\", response.status_code)"
   ]
  },
  {
   "cell_type": "code",
   "execution_count": 27,
   "metadata": {},
   "outputs": [
    {
     "name": "stdout",
     "output_type": "stream",
     "text": [
      "content:\n",
      " b'{\"personal_id\":[\"Personal ID must be a number, not ABC\"],\"name\":[\"Name and Last Name must be a string, not 123\"],\"age\":[\"A valid integer is required.\"]}'\n",
      "status_code: 400\n"
     ]
    }
   ],
   "source": [
    "# test 3 POST: con data inválida\n",
    "data = {\"personal_id\": \"ABC\", \"name\": \"123\", \"last_name\": \"Verde\", \"age\": \"all\"}\n",
    "\n",
    "response = requests.request(\n",
    "    method=\"POST\", url=\"http://localhost:8000/api/v1/profiles/\", data=data\n",
    ")\n",
    "\n",
    "print(\"content:\\n\", response.content)\n",
    "print(\"status_code:\", response.status_code)"
   ]
  },
  {
   "cell_type": "markdown",
   "metadata": {},
   "source": [
    "# SEGUNDO TEST: api/v1/profiles/\\<pk\\>/\n",
    "\n",
    "Metodo GET: <br />\n",
    "    - Test 1 | Con pk que existe: Devuelve el perfil<br />\n",
    "    - Test 2 | Con pk que no es valido: Devuelve un error 400<br />\n",
    "    - test 3 | Con pk que no existe: Devuelve un error 404<br />\n",
    "<br />\n",
    "Metodo PUT: <br />\n",
    "    - Test 1 | Con pk que existe: Devuelve el perfil actualizado<br />\n",
    "    - Test 2 | Con pk que no es valido: Devuelve un error 400<br />\n",
    "    - Test 3 | Con pk que no existe: Devuelve un error 404<br />\n",
    "    - Test 4 | Con data que no es valida: Devuelve un error 400<br />\n",
    "    - Test 5 | Sin data: Devuelve un error 400<br />\n",
    "<br />\n",
    "Metodo DELETE: <br />\n",
    "    - Test 1 | Con pk que existe: Devuelve un status 204<br />\n",
    "    - Test 2 | Con pk que no existe: Devuelve un error 404<br />\n",
    "    - Test 3 | Con pk que no es valido: Devuelve un error 400<br />"
   ]
  },
  {
   "cell_type": "code",
   "execution_count": 28,
   "metadata": {},
   "outputs": [
    {
     "name": "stdout",
     "output_type": "stream",
     "text": [
      "content:\n",
      " b'{\"personal_id\":\"429\",\"name\":\"Federico\",\"last_name\":\"Gris\",\"age\":22}'\n",
      "status_code: 200\n"
     ]
    }
   ],
   "source": [
    "# test 1 GET: con pk válido\n",
    "\n",
    "pk = new_id\n",
    "\n",
    "response = requests.request(\n",
    "    method=\"GET\", url=f\"http://localhost:8000/api/v1/profiles/{pk}/\"\n",
    ")\n",
    "\n",
    "print(\"content:\\n\", response.content)\n",
    "print(\"status_code:\", response.status_code)"
   ]
  },
  {
   "cell_type": "code",
   "execution_count": 29,
   "metadata": {},
   "outputs": [
    {
     "name": "stdout",
     "output_type": "stream",
     "text": [
      "content:\n",
      " b''\n",
      "status_code: 400\n"
     ]
    }
   ],
   "source": [
    "# test 2 GET: con pk inválido\n",
    "\n",
    "pk = \"ABC\"\n",
    "\n",
    "response = requests.request(\n",
    "    method=\"GET\", url=f\"http://localhost:8000/api/v1/profiles/{pk}/\"\n",
    ")\n",
    "\n",
    "print(\"content:\\n\", response.content)\n",
    "print(\"status_code:\", response.status_code)"
   ]
  },
  {
   "cell_type": "code",
   "execution_count": 30,
   "metadata": {},
   "outputs": [
    {
     "name": "stdout",
     "output_type": "stream",
     "text": [
      "content:\n",
      " b''\n",
      "status_code: 404\n"
     ]
    }
   ],
   "source": [
    "# test 3 GET: con pk inexistente\n",
    "\n",
    "pk = 1001\n",
    "\n",
    "response = requests.request(\n",
    "    method=\"GET\", url=f\"http://localhost:8000/api/v1/profiles/{pk}/\"\n",
    ")\n",
    "\n",
    "print(\"content:\\n\", response.content)\n",
    "print(\"status_code:\", response.status_code)"
   ]
  },
  {
   "cell_type": "code",
   "execution_count": 31,
   "metadata": {},
   "outputs": [
    {
     "name": "stdout",
     "output_type": "stream",
     "text": [
      "content:\n",
      " b'{\"personal_id\":\"1\",\"name\":\"Federico\",\"last_name\":\"Gris\",\"age\":22}'\n",
      "status_code: 200\n"
     ]
    }
   ],
   "source": [
    "# test 1 PUT: con pk válido\n",
    "\n",
    "pk = new_id\n",
    "\n",
    "data = {\"personal_id\": \"1\", \"name\": \"Federico\", \"last_name\": \"Gris\", \"age\": 22}\n",
    "\n",
    "response = requests.request(\n",
    "    method=\"PUT\", url=f\"http://localhost:8000/api/v1/profiles/{pk}/\", data=data\n",
    ")\n",
    "\n",
    "print(\"content:\\n\", response.content)\n",
    "print(\"status_code:\", response.status_code)"
   ]
  },
  {
   "cell_type": "code",
   "execution_count": 32,
   "metadata": {},
   "outputs": [
    {
     "name": "stdout",
     "output_type": "stream",
     "text": [
      "content:\n",
      " b''\n",
      "status_code: 400\n"
     ]
    }
   ],
   "source": [
    "# test 2 PUT: con pk inválido\n",
    "\n",
    "pk = \"ABC\"\n",
    "\n",
    "data = {\"personal_id\": \"44655766\", \"name\": \"Federico\", \"last_name\": \"Gris\", \"age\": 22}\n",
    "\n",
    "response = requests.request(\n",
    "    method=\"PUT\", url=f\"http://localhost:8000/api/v1/profiles/{pk}/\", data=data\n",
    ")\n",
    "\n",
    "print(\"content:\\n\", response.content)\n",
    "print(\"status_code:\", response.status_code)"
   ]
  },
  {
   "cell_type": "code",
   "execution_count": 33,
   "metadata": {},
   "outputs": [
    {
     "name": "stdout",
     "output_type": "stream",
     "text": [
      "content:\n",
      " b''\n",
      "status_code: 404\n"
     ]
    }
   ],
   "source": [
    "# test 3 PUT: con pk inexistente\n",
    "\n",
    "pk = 1001\n",
    "\n",
    "data = {\"personal_id\": \"44655766\", \"name\": \"Federico\", \"last_name\": \"Gris\", \"age\": 22}\n",
    "\n",
    "response = requests.request(\n",
    "    method=\"PUT\", url=f\"http://localhost:8000/api/v1/profiles/{pk}/\", data=data\n",
    ")\n",
    "\n",
    "print(\"content:\\n\", response.content)\n",
    "print(\"status_code:\", response.status_code)"
   ]
  },
  {
   "cell_type": "code",
   "execution_count": 34,
   "metadata": {},
   "outputs": [
    {
     "name": "stdout",
     "output_type": "stream",
     "text": [
      "content:\n",
      " b'{\"personal_id\":[\"Personal ID must be a number, not ABC\"],\"name\":[\"Name and Last Name must be a string, not 123\"],\"last_name\":[\"Name and Last Name must be a string, not 132\"],\"age\":[\"A valid integer is required.\"]}'\n",
      "status_code: 400\n"
     ]
    }
   ],
   "source": [
    "# test 4 PUT: con data inválida\n",
    "\n",
    "pk = 1\n",
    "\n",
    "data = {\"personal_id\": \"ABC\", \"name\": \"123\", \"last_name\": \"132\", \"age\": \"all\"}\n",
    "\n",
    "response = requests.request(\n",
    "    method=\"PUT\", url=f\"http://localhost:8000/api/v1/profiles/{pk}/\", data=data\n",
    ")\n",
    "\n",
    "print(\"content:\\n\", response.content)\n",
    "print(\"status_code:\", response.status_code)"
   ]
  },
  {
   "cell_type": "code",
   "execution_count": 35,
   "metadata": {},
   "outputs": [
    {
     "name": "stdout",
     "output_type": "stream",
     "text": [
      "content:\n",
      " b'{\"personal_id\":[\"This field is required.\"],\"name\":[\"This field is required.\"],\"last_name\":[\"This field is required.\"],\"age\":[\"This field is required.\"]}'\n",
      "status_code: 400\n"
     ]
    }
   ],
   "source": [
    "# test 5 PUT: sin data\n",
    "\n",
    "pk = 1\n",
    "\n",
    "data = {}\n",
    "\n",
    "response = requests.request(\n",
    "    method=\"PUT\", url=f\"http://localhost:8000/api/v1/profiles/{pk}/\", data=data\n",
    ")\n",
    "\n",
    "print(\"content:\\n\", response.content)\n",
    "print(\"status_code:\", response.status_code)"
   ]
  },
  {
   "cell_type": "code",
   "execution_count": 36,
   "metadata": {},
   "outputs": [
    {
     "name": "stdout",
     "output_type": "stream",
     "text": [
      "content:\n",
      " b''\n",
      "status_code: 204\n"
     ]
    }
   ],
   "source": [
    "# test 1 DELETE: con pk válido\n",
    "\n",
    "pk = 1\n",
    "\n",
    "response = requests.request(\n",
    "    method=\"DELETE\", url=f\"http://localhost:8000/api/v1/profiles/{pk}/\"\n",
    ")\n",
    "\n",
    "print(\"content:\\n\", response.content)\n",
    "print(\"status_code:\", response.status_code)"
   ]
  },
  {
   "cell_type": "code",
   "execution_count": 37,
   "metadata": {},
   "outputs": [
    {
     "name": "stdout",
     "output_type": "stream",
     "text": [
      "content:\n",
      " b''\n",
      "status_code: 404\n"
     ]
    }
   ],
   "source": [
    "# test 2 DELETE: con pk inexistente\n",
    "\n",
    "pk = 1001\n",
    "\n",
    "response = requests.request(\n",
    "    method=\"DELETE\", url=f\"http://localhost:8000/api/v1/profiles/{pk}/\"\n",
    ")\n",
    "\n",
    "print(\"content:\\n\", response.content)\n",
    "print(\"status_code:\", response.status_code)"
   ]
  },
  {
   "cell_type": "code",
   "execution_count": 38,
   "metadata": {},
   "outputs": [
    {
     "name": "stdout",
     "output_type": "stream",
     "text": [
      "content:\n",
      " b''\n",
      "status_code: 400\n"
     ]
    }
   ],
   "source": [
    "# test 3 DELETE: con pk inválido\n",
    "\n",
    "pk = \"ABC\"\n",
    "\n",
    "response = requests.request(\n",
    "    method=\"DELETE\", url=f\"http://localhost:8000/api/v1/profiles/{pk}/\"\n",
    ")\n",
    "\n",
    "print(\"content:\\n\", response.content)\n",
    "print(\"status_code:\", response.status_code)"
   ]
  },
  {
   "cell_type": "code",
   "execution_count": null,
   "metadata": {},
   "outputs": [],
   "source": []
  }
 ],
 "metadata": {
  "kernelspec": {
   "display_name": "venv",
   "language": "python",
   "name": "python3"
  },
  "language_info": {
   "codemirror_mode": {
    "name": "ipython",
    "version": 3
   },
   "file_extension": ".py",
   "mimetype": "text/x-python",
   "name": "python",
   "nbconvert_exporter": "python",
   "pygments_lexer": "ipython3",
   "version": "3.11.2"
  },
  "orig_nbformat": 4,
  "vscode": {
   "interpreter": {
    "hash": "b2b245e88e375682cac8747c2e000ac5881f820c288d110c7e5d10c3a54417a7"
   }
  }
 },
 "nbformat": 4,
 "nbformat_minor": 2
}
