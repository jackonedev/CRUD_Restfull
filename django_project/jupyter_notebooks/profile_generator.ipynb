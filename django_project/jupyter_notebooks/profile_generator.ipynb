{
 "cells": [
  {
   "attachments": {},
   "cell_type": "markdown",
   "metadata": {},
   "source": [
    "# DJANGO\n",
    "\n",
    "Model: Profile\n",
    "\n",
    "create automated users"
   ]
  },
  {
   "cell_type": "code",
   "execution_count": 1,
   "metadata": {},
   "outputs": [],
   "source": [
    "import pandas as pd\n",
    "# import requests\n",
    "import json\n",
    "from django_for_jupyter import init_django"
   ]
  },
  {
   "cell_type": "code",
   "execution_count": 2,
   "metadata": {},
   "outputs": [],
   "source": [
    "init_django('django_project')"
   ]
  },
  {
   "cell_type": "code",
   "execution_count": 3,
   "metadata": {},
   "outputs": [
    {
     "data": {
      "text/plain": [
       "<QuerySet [<Profile: Alejandra Bordo, (20464260)>, <Profile: Pedro Rojo, (10217811)>, <Profile: Carola Naranja, (8163234)>, <Profile: Mario Amarillo, (28219272)>, <Profile: Carola Bordo, (16250004)>, <Profile: Sofia Naranja, (8849573)>, <Profile: Carola Amarillo, (9920210)>, <Profile: Mario Bordo, (52650007)>, <Profile: Jorge Naranja, (10692008)>, <Profile: Victoria Rojo, (55650009)>, <Profile: Mario Violeta, (43733322)>, <Profile: Pedro Bordo, (28120011)>, <Profile: Alejandra Gris, (10304436)>, <Profile: Pedro Amarillo, (49783327)>, <Profile: Agustin Amarillo, (24319292)>, <Profile: Agustin Rojo, (8163247)>, <Profile: Maria Verde, (5756569)>, <Profile: Mario Rojo, (7376209)>, <Profile: Victoria Naranja, (27159297)>, <Profile: Carola Bordo, (26160719)>, '...(remaining elements truncated)...']>"
      ]
     },
     "execution_count": 3,
     "metadata": {},
     "output_type": "execute_result"
    }
   ],
   "source": [
    "from rest_application.models import Profile\n",
    "Profile.objects.all()"
   ]
  },
  {
   "cell_type": "code",
   "execution_count": 4,
   "metadata": {},
   "outputs": [
    {
     "name": "stdout",
     "output_type": "stream",
     "text": [
      "{'personal_id': 17165696, 'name': 'Pedro', 'last_name': 'Verde', 'age': 64}\n"
     ]
    }
   ],
   "source": [
    "from rest_application.application_package.profile_generator import get_profile\n",
    "\n",
    "\n",
    "profile = get_profile()\n",
    "\n",
    "print (profile)"
   ]
  },
  {
   "attachments": {},
   "cell_type": "markdown",
   "metadata": {},
   "source": [
    "# instanciate model 'Profile' and create new register"
   ]
  },
  {
   "cell_type": "code",
   "execution_count": 5,
   "metadata": {},
   "outputs": [],
   "source": [
    "table = Profile"
   ]
  },
  {
   "cell_type": "code",
   "execution_count": 6,
   "metadata": {},
   "outputs": [
    {
     "data": {
      "text/plain": [
       "<Profile: Pedro Verde, (17165696)>"
      ]
     },
     "execution_count": 6,
     "metadata": {},
     "output_type": "execute_result"
    }
   ],
   "source": [
    "table.objects.create(\n",
    "    personal_id=profile['personal_id'],\n",
    "    name=profile['name'],\n",
    "    last_name=profile['last_name'],\n",
    "    age=profile['age']\n",
    "    )"
   ]
  },
  {
   "cell_type": "code",
   "execution_count": 7,
   "metadata": {},
   "outputs": [
    {
     "data": {
      "text/plain": [
       "<QuerySet [<Profile: Alejandra Bordo, (20464260)>, <Profile: Pedro Rojo, (10217811)>, <Profile: Carola Naranja, (8163234)>, <Profile: Mario Amarillo, (28219272)>, <Profile: Carola Bordo, (16250004)>, <Profile: Sofia Naranja, (8849573)>, <Profile: Carola Amarillo, (9920210)>, <Profile: Mario Bordo, (52650007)>, <Profile: Jorge Naranja, (10692008)>, <Profile: Victoria Rojo, (55650009)>, <Profile: Mario Violeta, (43733322)>, <Profile: Pedro Bordo, (28120011)>, <Profile: Alejandra Gris, (10304436)>, <Profile: Pedro Amarillo, (49783327)>, <Profile: Agustin Amarillo, (24319292)>, <Profile: Agustin Rojo, (8163247)>, <Profile: Maria Verde, (5756569)>, <Profile: Mario Rojo, (7376209)>, <Profile: Victoria Naranja, (27159297)>, <Profile: Carola Bordo, (26160719)>, '...(remaining elements truncated)...']>"
      ]
     },
     "execution_count": 7,
     "metadata": {},
     "output_type": "execute_result"
    }
   ],
   "source": [
    "table.objects.all()"
   ]
  },
  {
   "attachments": {},
   "cell_type": "markdown",
   "metadata": {},
   "source": [
    "# Create multiple registers with a loop"
   ]
  },
  {
   "cell_type": "code",
   "execution_count": 8,
   "metadata": {},
   "outputs": [],
   "source": [
    "for i in range(1000):\n",
    "    profile = get_profile()\n",
    "    try:\n",
    "        table.objects.create(\n",
    "            personal_id=profile['personal_id'],\n",
    "            name=profile['name'],\n",
    "            last_name=profile['last_name'],\n",
    "            age=profile['age']\n",
    "            )\n",
    "    except:\n",
    "        pass"
   ]
  },
  {
   "cell_type": "code",
   "execution_count": 9,
   "metadata": {},
   "outputs": [
    {
     "data": {
      "text/plain": [
       "django.db.models.query.QuerySet"
      ]
     },
     "execution_count": 9,
     "metadata": {},
     "output_type": "execute_result"
    }
   ],
   "source": [
    "type(table.objects.all())"
   ]
  },
  {
   "cell_type": "code",
   "execution_count": 10,
   "metadata": {},
   "outputs": [],
   "source": [
    "from rest_application.application_package.notebook_tools import to_pandas"
   ]
  },
  {
   "cell_type": "code",
   "execution_count": 11,
   "metadata": {},
   "outputs": [
    {
     "data": {
      "text/html": [
       "<div>\n",
       "<style scoped>\n",
       "    .dataframe tbody tr th:only-of-type {\n",
       "        vertical-align: middle;\n",
       "    }\n",
       "\n",
       "    .dataframe tbody tr th {\n",
       "        vertical-align: top;\n",
       "    }\n",
       "\n",
       "    .dataframe thead th {\n",
       "        text-align: right;\n",
       "    }\n",
       "</style>\n",
       "<table border=\"1\" class=\"dataframe\">\n",
       "  <thead>\n",
       "    <tr style=\"text-align: right;\">\n",
       "      <th></th>\n",
       "      <th>personal_id</th>\n",
       "      <th>name</th>\n",
       "      <th>last_name</th>\n",
       "      <th>age</th>\n",
       "    </tr>\n",
       "  </thead>\n",
       "  <tbody>\n",
       "    <tr>\n",
       "      <th>0</th>\n",
       "      <td>20464260</td>\n",
       "      <td>Alejandra</td>\n",
       "      <td>Bordo</td>\n",
       "      <td>60</td>\n",
       "    </tr>\n",
       "    <tr>\n",
       "      <th>1</th>\n",
       "      <td>10217811</td>\n",
       "      <td>Pedro</td>\n",
       "      <td>Rojo</td>\n",
       "      <td>73</td>\n",
       "    </tr>\n",
       "    <tr>\n",
       "      <th>2</th>\n",
       "      <td>8163234</td>\n",
       "      <td>Carola</td>\n",
       "      <td>Naranja</td>\n",
       "      <td>88</td>\n",
       "    </tr>\n",
       "    <tr>\n",
       "      <th>3</th>\n",
       "      <td>28219272</td>\n",
       "      <td>Mario</td>\n",
       "      <td>Amarillo</td>\n",
       "      <td>39</td>\n",
       "    </tr>\n",
       "    <tr>\n",
       "      <th>4</th>\n",
       "      <td>16250004</td>\n",
       "      <td>Carola</td>\n",
       "      <td>Bordo</td>\n",
       "      <td>65</td>\n",
       "    </tr>\n",
       "    <tr>\n",
       "      <th>...</th>\n",
       "      <td>...</td>\n",
       "      <td>...</td>\n",
       "      <td>...</td>\n",
       "      <td>...</td>\n",
       "    </tr>\n",
       "    <tr>\n",
       "      <th>2006</th>\n",
       "      <td>55334316</td>\n",
       "      <td>Pedro</td>\n",
       "      <td>Azul</td>\n",
       "      <td>20</td>\n",
       "    </tr>\n",
       "    <tr>\n",
       "      <th>2007</th>\n",
       "      <td>53734313</td>\n",
       "      <td>Juan</td>\n",
       "      <td>Violeta</td>\n",
       "      <td>26</td>\n",
       "    </tr>\n",
       "    <tr>\n",
       "      <th>2008</th>\n",
       "      <td>10218808</td>\n",
       "      <td>Maria</td>\n",
       "      <td>Bordo</td>\n",
       "      <td>73</td>\n",
       "    </tr>\n",
       "    <tr>\n",
       "      <th>2009</th>\n",
       "      <td>6720824</td>\n",
       "      <td>Carola</td>\n",
       "      <td>Naranja</td>\n",
       "      <td>95</td>\n",
       "    </tr>\n",
       "    <tr>\n",
       "      <th>2010</th>\n",
       "      <td>49784314</td>\n",
       "      <td>Mario</td>\n",
       "      <td>Azul</td>\n",
       "      <td>29</td>\n",
       "    </tr>\n",
       "  </tbody>\n",
       "</table>\n",
       "<p>2011 rows × 4 columns</p>\n",
       "</div>"
      ],
      "text/plain": [
       "     personal_id       name last_name  age\n",
       "0       20464260  Alejandra     Bordo   60\n",
       "1       10217811      Pedro      Rojo   73\n",
       "2        8163234     Carola   Naranja   88\n",
       "3       28219272      Mario  Amarillo   39\n",
       "4       16250004     Carola     Bordo   65\n",
       "...          ...        ...       ...  ...\n",
       "2006    55334316      Pedro      Azul   20\n",
       "2007    53734313       Juan   Violeta   26\n",
       "2008    10218808      Maria     Bordo   73\n",
       "2009     6720824     Carola   Naranja   95\n",
       "2010    49784314      Mario      Azul   29\n",
       "\n",
       "[2011 rows x 4 columns]"
      ]
     },
     "execution_count": 11,
     "metadata": {},
     "output_type": "execute_result"
    }
   ],
   "source": [
    "to_pandas(table)"
   ]
  },
  {
   "cell_type": "code",
   "execution_count": null,
   "metadata": {},
   "outputs": [],
   "source": []
  },
  {
   "cell_type": "code",
   "execution_count": null,
   "metadata": {},
   "outputs": [],
   "source": []
  }
 ],
 "metadata": {
  "kernelspec": {
   "display_name": "venv",
   "language": "python",
   "name": "python3"
  },
  "language_info": {
   "codemirror_mode": {
    "name": "ipython",
    "version": 3
   },
   "file_extension": ".py",
   "mimetype": "text/x-python",
   "name": "python",
   "nbconvert_exporter": "python",
   "pygments_lexer": "ipython3",
   "version": "3.10.2"
  },
  "orig_nbformat": 4,
  "vscode": {
   "interpreter": {
    "hash": "bf2bc24cf25d99b57e8b25ba61bee048ef1540c0d22992dd7d6c919a09691a2a"
   }
  }
 },
 "nbformat": 4,
 "nbformat_minor": 2
}
